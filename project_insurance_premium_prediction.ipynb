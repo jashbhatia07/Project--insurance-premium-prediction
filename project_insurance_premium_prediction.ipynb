{
  "nbformat": 4,
  "nbformat_minor": 0,
  "metadata": {
    "colab": {
      "provenance": []
    },
    "kernelspec": {
      "display_name": "Python 3",
      "name": "python3"
    },
    "language_info": {
      "name": "python"
    }
  },
  "cells": [
    {
      "cell_type": "markdown",
      "metadata": {
        "id": "MAyK0jcMVo2T"
      },
      "source": [
        "----------------------------\n",
        "##**Problem statement -:**\n",
        "----------------------------\n",
        " The goal of this project is to give people an estimate of how much they need based on their individual health situation. After that, customers can work with any health insurance carrier and its plans and perks while keeping the projected cost from our study in mind. This can assist a person in concentrating on the health side of an insurance policy rather han the ineffective part."
      ]
    },
    {
      "cell_type": "code",
      "metadata": {
        "id": "IFsg98OPUNsp"
      },
      "source": [
        "import pandas as pd\n",
        "import numpy as np\n",
        "import matplotlib.pyplot as plt\n",
        "import seaborn as sns\n",
        "%matplotlib inline"
      ],
      "execution_count": null,
      "outputs": []
    },
    {
      "cell_type": "code",
      "metadata": {
        "colab": {
          "base_uri": "https://localhost:8080/"
        },
        "id": "xq4dQRMlX9Cd",
        "outputId": "38cd5f99-6e03-47a9-ae45-3e6b82b7c5ee"
      },
      "source": [
        "from google.colab import drive\n",
        "drive.mount(\"/content/drive\")"
      ],
      "execution_count": null,
      "outputs": [
        {
          "output_type": "stream",
          "name": "stdout",
          "text": [
            "Drive already mounted at /content/drive; to attempt to forcibly remount, call drive.mount(\"/content/drive\", force_remount=True).\n"
          ]
        }
      ]
    },
    {
      "cell_type": "code",
      "metadata": {
        "id": "utHilUBpWjJd"
      },
      "source": [
        "insurance_df = pd.read_csv(\"/content/drive/My Drive/iNeuron Project/insurance.csv\")#reading file stored in drive"
      ],
      "execution_count": null,
      "outputs": []
    },
    {
      "cell_type": "code",
      "metadata": {
        "colab": {
          "base_uri": "https://localhost:8080/",
          "height": 206
        },
        "id": "Adtc043IWjE_",
        "outputId": "d043ad03-83a2-40c9-c216-4ca894c24460"
      },
      "source": [
        "insurance_df.head()"
      ],
      "execution_count": null,
      "outputs": [
        {
          "output_type": "execute_result",
          "data": {
            "text/html": [
              "\n",
              "  <div id=\"df-b6d56a73-b0df-42dc-9896-1fbf196279f6\">\n",
              "    <div class=\"colab-df-container\">\n",
              "      <div>\n",
              "<style scoped>\n",
              "    .dataframe tbody tr th:only-of-type {\n",
              "        vertical-align: middle;\n",
              "    }\n",
              "\n",
              "    .dataframe tbody tr th {\n",
              "        vertical-align: top;\n",
              "    }\n",
              "\n",
              "    .dataframe thead th {\n",
              "        text-align: right;\n",
              "    }\n",
              "</style>\n",
              "<table border=\"1\" class=\"dataframe\">\n",
              "  <thead>\n",
              "    <tr style=\"text-align: right;\">\n",
              "      <th></th>\n",
              "      <th>age</th>\n",
              "      <th>sex</th>\n",
              "      <th>bmi</th>\n",
              "      <th>children</th>\n",
              "      <th>smoker</th>\n",
              "      <th>region</th>\n",
              "      <th>expenses</th>\n",
              "    </tr>\n",
              "  </thead>\n",
              "  <tbody>\n",
              "    <tr>\n",
              "      <th>0</th>\n",
              "      <td>19</td>\n",
              "      <td>female</td>\n",
              "      <td>27.9</td>\n",
              "      <td>0</td>\n",
              "      <td>yes</td>\n",
              "      <td>southwest</td>\n",
              "      <td>16884.92</td>\n",
              "    </tr>\n",
              "    <tr>\n",
              "      <th>1</th>\n",
              "      <td>18</td>\n",
              "      <td>male</td>\n",
              "      <td>33.8</td>\n",
              "      <td>1</td>\n",
              "      <td>no</td>\n",
              "      <td>southeast</td>\n",
              "      <td>1725.55</td>\n",
              "    </tr>\n",
              "    <tr>\n",
              "      <th>2</th>\n",
              "      <td>28</td>\n",
              "      <td>male</td>\n",
              "      <td>33.0</td>\n",
              "      <td>3</td>\n",
              "      <td>no</td>\n",
              "      <td>southeast</td>\n",
              "      <td>4449.46</td>\n",
              "    </tr>\n",
              "    <tr>\n",
              "      <th>3</th>\n",
              "      <td>33</td>\n",
              "      <td>male</td>\n",
              "      <td>22.7</td>\n",
              "      <td>0</td>\n",
              "      <td>no</td>\n",
              "      <td>northwest</td>\n",
              "      <td>21984.47</td>\n",
              "    </tr>\n",
              "    <tr>\n",
              "      <th>4</th>\n",
              "      <td>32</td>\n",
              "      <td>male</td>\n",
              "      <td>28.9</td>\n",
              "      <td>0</td>\n",
              "      <td>no</td>\n",
              "      <td>northwest</td>\n",
              "      <td>3866.86</td>\n",
              "    </tr>\n",
              "  </tbody>\n",
              "</table>\n",
              "</div>\n",
              "      <button class=\"colab-df-convert\" onclick=\"convertToInteractive('df-b6d56a73-b0df-42dc-9896-1fbf196279f6')\"\n",
              "              title=\"Convert this dataframe to an interactive table.\"\n",
              "              style=\"display:none;\">\n",
              "        \n",
              "  <svg xmlns=\"http://www.w3.org/2000/svg\" height=\"24px\"viewBox=\"0 0 24 24\"\n",
              "       width=\"24px\">\n",
              "    <path d=\"M0 0h24v24H0V0z\" fill=\"none\"/>\n",
              "    <path d=\"M18.56 5.44l.94 2.06.94-2.06 2.06-.94-2.06-.94-.94-2.06-.94 2.06-2.06.94zm-11 1L8.5 8.5l.94-2.06 2.06-.94-2.06-.94L8.5 2.5l-.94 2.06-2.06.94zm10 10l.94 2.06.94-2.06 2.06-.94-2.06-.94-.94-2.06-.94 2.06-2.06.94z\"/><path d=\"M17.41 7.96l-1.37-1.37c-.4-.4-.92-.59-1.43-.59-.52 0-1.04.2-1.43.59L10.3 9.45l-7.72 7.72c-.78.78-.78 2.05 0 2.83L4 21.41c.39.39.9.59 1.41.59.51 0 1.02-.2 1.41-.59l7.78-7.78 2.81-2.81c.8-.78.8-2.07 0-2.86zM5.41 20L4 18.59l7.72-7.72 1.47 1.35L5.41 20z\"/>\n",
              "  </svg>\n",
              "      </button>\n",
              "      \n",
              "  <style>\n",
              "    .colab-df-container {\n",
              "      display:flex;\n",
              "      flex-wrap:wrap;\n",
              "      gap: 12px;\n",
              "    }\n",
              "\n",
              "    .colab-df-convert {\n",
              "      background-color: #E8F0FE;\n",
              "      border: none;\n",
              "      border-radius: 50%;\n",
              "      cursor: pointer;\n",
              "      display: none;\n",
              "      fill: #1967D2;\n",
              "      height: 32px;\n",
              "      padding: 0 0 0 0;\n",
              "      width: 32px;\n",
              "    }\n",
              "\n",
              "    .colab-df-convert:hover {\n",
              "      background-color: #E2EBFA;\n",
              "      box-shadow: 0px 1px 2px rgba(60, 64, 67, 0.3), 0px 1px 3px 1px rgba(60, 64, 67, 0.15);\n",
              "      fill: #174EA6;\n",
              "    }\n",
              "\n",
              "    [theme=dark] .colab-df-convert {\n",
              "      background-color: #3B4455;\n",
              "      fill: #D2E3FC;\n",
              "    }\n",
              "\n",
              "    [theme=dark] .colab-df-convert:hover {\n",
              "      background-color: #434B5C;\n",
              "      box-shadow: 0px 1px 3px 1px rgba(0, 0, 0, 0.15);\n",
              "      filter: drop-shadow(0px 1px 2px rgba(0, 0, 0, 0.3));\n",
              "      fill: #FFFFFF;\n",
              "    }\n",
              "  </style>\n",
              "\n",
              "      <script>\n",
              "        const buttonEl =\n",
              "          document.querySelector('#df-b6d56a73-b0df-42dc-9896-1fbf196279f6 button.colab-df-convert');\n",
              "        buttonEl.style.display =\n",
              "          google.colab.kernel.accessAllowed ? 'block' : 'none';\n",
              "\n",
              "        async function convertToInteractive(key) {\n",
              "          const element = document.querySelector('#df-b6d56a73-b0df-42dc-9896-1fbf196279f6');\n",
              "          const dataTable =\n",
              "            await google.colab.kernel.invokeFunction('convertToInteractive',\n",
              "                                                     [key], {});\n",
              "          if (!dataTable) return;\n",
              "\n",
              "          const docLinkHtml = 'Like what you see? Visit the ' +\n",
              "            '<a target=\"_blank\" href=https://colab.research.google.com/notebooks/data_table.ipynb>data table notebook</a>'\n",
              "            + ' to learn more about interactive tables.';\n",
              "          element.innerHTML = '';\n",
              "          dataTable['output_type'] = 'display_data';\n",
              "          await google.colab.output.renderOutput(dataTable, element);\n",
              "          const docLink = document.createElement('div');\n",
              "          docLink.innerHTML = docLinkHtml;\n",
              "          element.appendChild(docLink);\n",
              "        }\n",
              "      </script>\n",
              "    </div>\n",
              "  </div>\n",
              "  "
            ],
            "text/plain": [
              "   age     sex   bmi  children smoker     region  expenses\n",
              "0   19  female  27.9         0    yes  southwest  16884.92\n",
              "1   18    male  33.8         1     no  southeast   1725.55\n",
              "2   28    male  33.0         3     no  southeast   4449.46\n",
              "3   33    male  22.7         0     no  northwest  21984.47\n",
              "4   32    male  28.9         0     no  northwest   3866.86"
            ]
          },
          "metadata": {},
          "execution_count": 93
        }
      ]
    },
    {
      "cell_type": "code",
      "metadata": {
        "colab": {
          "base_uri": "https://localhost:8080/",
          "height": 206
        },
        "id": "t_B_WP6PWjAL",
        "outputId": "44db303c-33fe-47bb-8602-343164ddc36a"
      },
      "source": [
        "insurance_df.tail()"
      ],
      "execution_count": null,
      "outputs": [
        {
          "output_type": "execute_result",
          "data": {
            "text/html": [
              "\n",
              "  <div id=\"df-719fd012-03f0-4601-bf37-53d9fd755fee\">\n",
              "    <div class=\"colab-df-container\">\n",
              "      <div>\n",
              "<style scoped>\n",
              "    .dataframe tbody tr th:only-of-type {\n",
              "        vertical-align: middle;\n",
              "    }\n",
              "\n",
              "    .dataframe tbody tr th {\n",
              "        vertical-align: top;\n",
              "    }\n",
              "\n",
              "    .dataframe thead th {\n",
              "        text-align: right;\n",
              "    }\n",
              "</style>\n",
              "<table border=\"1\" class=\"dataframe\">\n",
              "  <thead>\n",
              "    <tr style=\"text-align: right;\">\n",
              "      <th></th>\n",
              "      <th>age</th>\n",
              "      <th>sex</th>\n",
              "      <th>bmi</th>\n",
              "      <th>children</th>\n",
              "      <th>smoker</th>\n",
              "      <th>region</th>\n",
              "      <th>expenses</th>\n",
              "    </tr>\n",
              "  </thead>\n",
              "  <tbody>\n",
              "    <tr>\n",
              "      <th>1333</th>\n",
              "      <td>50</td>\n",
              "      <td>male</td>\n",
              "      <td>31.0</td>\n",
              "      <td>3</td>\n",
              "      <td>no</td>\n",
              "      <td>northwest</td>\n",
              "      <td>10600.55</td>\n",
              "    </tr>\n",
              "    <tr>\n",
              "      <th>1334</th>\n",
              "      <td>18</td>\n",
              "      <td>female</td>\n",
              "      <td>31.9</td>\n",
              "      <td>0</td>\n",
              "      <td>no</td>\n",
              "      <td>northeast</td>\n",
              "      <td>2205.98</td>\n",
              "    </tr>\n",
              "    <tr>\n",
              "      <th>1335</th>\n",
              "      <td>18</td>\n",
              "      <td>female</td>\n",
              "      <td>36.9</td>\n",
              "      <td>0</td>\n",
              "      <td>no</td>\n",
              "      <td>southeast</td>\n",
              "      <td>1629.83</td>\n",
              "    </tr>\n",
              "    <tr>\n",
              "      <th>1336</th>\n",
              "      <td>21</td>\n",
              "      <td>female</td>\n",
              "      <td>25.8</td>\n",
              "      <td>0</td>\n",
              "      <td>no</td>\n",
              "      <td>southwest</td>\n",
              "      <td>2007.95</td>\n",
              "    </tr>\n",
              "    <tr>\n",
              "      <th>1337</th>\n",
              "      <td>61</td>\n",
              "      <td>female</td>\n",
              "      <td>29.1</td>\n",
              "      <td>0</td>\n",
              "      <td>yes</td>\n",
              "      <td>northwest</td>\n",
              "      <td>29141.36</td>\n",
              "    </tr>\n",
              "  </tbody>\n",
              "</table>\n",
              "</div>\n",
              "      <button class=\"colab-df-convert\" onclick=\"convertToInteractive('df-719fd012-03f0-4601-bf37-53d9fd755fee')\"\n",
              "              title=\"Convert this dataframe to an interactive table.\"\n",
              "              style=\"display:none;\">\n",
              "        \n",
              "  <svg xmlns=\"http://www.w3.org/2000/svg\" height=\"24px\"viewBox=\"0 0 24 24\"\n",
              "       width=\"24px\">\n",
              "    <path d=\"M0 0h24v24H0V0z\" fill=\"none\"/>\n",
              "    <path d=\"M18.56 5.44l.94 2.06.94-2.06 2.06-.94-2.06-.94-.94-2.06-.94 2.06-2.06.94zm-11 1L8.5 8.5l.94-2.06 2.06-.94-2.06-.94L8.5 2.5l-.94 2.06-2.06.94zm10 10l.94 2.06.94-2.06 2.06-.94-2.06-.94-.94-2.06-.94 2.06-2.06.94z\"/><path d=\"M17.41 7.96l-1.37-1.37c-.4-.4-.92-.59-1.43-.59-.52 0-1.04.2-1.43.59L10.3 9.45l-7.72 7.72c-.78.78-.78 2.05 0 2.83L4 21.41c.39.39.9.59 1.41.59.51 0 1.02-.2 1.41-.59l7.78-7.78 2.81-2.81c.8-.78.8-2.07 0-2.86zM5.41 20L4 18.59l7.72-7.72 1.47 1.35L5.41 20z\"/>\n",
              "  </svg>\n",
              "      </button>\n",
              "      \n",
              "  <style>\n",
              "    .colab-df-container {\n",
              "      display:flex;\n",
              "      flex-wrap:wrap;\n",
              "      gap: 12px;\n",
              "    }\n",
              "\n",
              "    .colab-df-convert {\n",
              "      background-color: #E8F0FE;\n",
              "      border: none;\n",
              "      border-radius: 50%;\n",
              "      cursor: pointer;\n",
              "      display: none;\n",
              "      fill: #1967D2;\n",
              "      height: 32px;\n",
              "      padding: 0 0 0 0;\n",
              "      width: 32px;\n",
              "    }\n",
              "\n",
              "    .colab-df-convert:hover {\n",
              "      background-color: #E2EBFA;\n",
              "      box-shadow: 0px 1px 2px rgba(60, 64, 67, 0.3), 0px 1px 3px 1px rgba(60, 64, 67, 0.15);\n",
              "      fill: #174EA6;\n",
              "    }\n",
              "\n",
              "    [theme=dark] .colab-df-convert {\n",
              "      background-color: #3B4455;\n",
              "      fill: #D2E3FC;\n",
              "    }\n",
              "\n",
              "    [theme=dark] .colab-df-convert:hover {\n",
              "      background-color: #434B5C;\n",
              "      box-shadow: 0px 1px 3px 1px rgba(0, 0, 0, 0.15);\n",
              "      filter: drop-shadow(0px 1px 2px rgba(0, 0, 0, 0.3));\n",
              "      fill: #FFFFFF;\n",
              "    }\n",
              "  </style>\n",
              "\n",
              "      <script>\n",
              "        const buttonEl =\n",
              "          document.querySelector('#df-719fd012-03f0-4601-bf37-53d9fd755fee button.colab-df-convert');\n",
              "        buttonEl.style.display =\n",
              "          google.colab.kernel.accessAllowed ? 'block' : 'none';\n",
              "\n",
              "        async function convertToInteractive(key) {\n",
              "          const element = document.querySelector('#df-719fd012-03f0-4601-bf37-53d9fd755fee');\n",
              "          const dataTable =\n",
              "            await google.colab.kernel.invokeFunction('convertToInteractive',\n",
              "                                                     [key], {});\n",
              "          if (!dataTable) return;\n",
              "\n",
              "          const docLinkHtml = 'Like what you see? Visit the ' +\n",
              "            '<a target=\"_blank\" href=https://colab.research.google.com/notebooks/data_table.ipynb>data table notebook</a>'\n",
              "            + ' to learn more about interactive tables.';\n",
              "          element.innerHTML = '';\n",
              "          dataTable['output_type'] = 'display_data';\n",
              "          await google.colab.output.renderOutput(dataTable, element);\n",
              "          const docLink = document.createElement('div');\n",
              "          docLink.innerHTML = docLinkHtml;\n",
              "          element.appendChild(docLink);\n",
              "        }\n",
              "      </script>\n",
              "    </div>\n",
              "  </div>\n",
              "  "
            ],
            "text/plain": [
              "      age     sex   bmi  children smoker     region  expenses\n",
              "1333   50    male  31.0         3     no  northwest  10600.55\n",
              "1334   18  female  31.9         0     no  northeast   2205.98\n",
              "1335   18  female  36.9         0     no  southeast   1629.83\n",
              "1336   21  female  25.8         0     no  southwest   2007.95\n",
              "1337   61  female  29.1         0    yes  northwest  29141.36"
            ]
          },
          "metadata": {},
          "execution_count": 94
        }
      ]
    },
    {
      "cell_type": "code",
      "metadata": {
        "colab": {
          "base_uri": "https://localhost:8080/"
        },
        "id": "sXsI-BC9Wi6n",
        "outputId": "c71a29d4-585d-496f-d407-642969aab102"
      },
      "source": [
        "insurance_df.shape"
      ],
      "execution_count": null,
      "outputs": [
        {
          "output_type": "execute_result",
          "data": {
            "text/plain": [
              "(1338, 7)"
            ]
          },
          "metadata": {},
          "execution_count": 95
        }
      ]
    },
    {
      "cell_type": "code",
      "metadata": {
        "colab": {
          "base_uri": "https://localhost:8080/"
        },
        "id": "ct7xzCZnWi2Y",
        "outputId": "26e7230b-2deb-4a51-c4d4-9858f56a5aa6"
      },
      "source": [
        "insurance_df.info()"
      ],
      "execution_count": null,
      "outputs": [
        {
          "output_type": "stream",
          "name": "stdout",
          "text": [
            "<class 'pandas.core.frame.DataFrame'>\n",
            "RangeIndex: 1338 entries, 0 to 1337\n",
            "Data columns (total 7 columns):\n",
            " #   Column    Non-Null Count  Dtype  \n",
            "---  ------    --------------  -----  \n",
            " 0   age       1338 non-null   int64  \n",
            " 1   sex       1338 non-null   object \n",
            " 2   bmi       1338 non-null   float64\n",
            " 3   children  1338 non-null   int64  \n",
            " 4   smoker    1338 non-null   object \n",
            " 5   region    1338 non-null   object \n",
            " 6   expenses  1338 non-null   float64\n",
            "dtypes: float64(2), int64(2), object(3)\n",
            "memory usage: 73.3+ KB\n"
          ]
        }
      ]
    },
    {
      "cell_type": "code",
      "metadata": {
        "colab": {
          "base_uri": "https://localhost:8080/",
          "height": 300
        },
        "id": "o0pZ4x9UWiyE",
        "outputId": "0b615d14-78e9-4027-e28c-17a1e2f83efe"
      },
      "source": [
        "insurance_df.describe()"
      ],
      "execution_count": null,
      "outputs": [
        {
          "output_type": "execute_result",
          "data": {
            "text/html": [
              "\n",
              "  <div id=\"df-1e26ef34-bf36-4b8d-bbe3-6d15044e4c67\">\n",
              "    <div class=\"colab-df-container\">\n",
              "      <div>\n",
              "<style scoped>\n",
              "    .dataframe tbody tr th:only-of-type {\n",
              "        vertical-align: middle;\n",
              "    }\n",
              "\n",
              "    .dataframe tbody tr th {\n",
              "        vertical-align: top;\n",
              "    }\n",
              "\n",
              "    .dataframe thead th {\n",
              "        text-align: right;\n",
              "    }\n",
              "</style>\n",
              "<table border=\"1\" class=\"dataframe\">\n",
              "  <thead>\n",
              "    <tr style=\"text-align: right;\">\n",
              "      <th></th>\n",
              "      <th>age</th>\n",
              "      <th>bmi</th>\n",
              "      <th>children</th>\n",
              "      <th>expenses</th>\n",
              "    </tr>\n",
              "  </thead>\n",
              "  <tbody>\n",
              "    <tr>\n",
              "      <th>count</th>\n",
              "      <td>1338.000000</td>\n",
              "      <td>1338.000000</td>\n",
              "      <td>1338.000000</td>\n",
              "      <td>1338.000000</td>\n",
              "    </tr>\n",
              "    <tr>\n",
              "      <th>mean</th>\n",
              "      <td>39.207025</td>\n",
              "      <td>30.665471</td>\n",
              "      <td>1.094918</td>\n",
              "      <td>13270.422414</td>\n",
              "    </tr>\n",
              "    <tr>\n",
              "      <th>std</th>\n",
              "      <td>14.049960</td>\n",
              "      <td>6.098382</td>\n",
              "      <td>1.205493</td>\n",
              "      <td>12110.011240</td>\n",
              "    </tr>\n",
              "    <tr>\n",
              "      <th>min</th>\n",
              "      <td>18.000000</td>\n",
              "      <td>16.000000</td>\n",
              "      <td>0.000000</td>\n",
              "      <td>1121.870000</td>\n",
              "    </tr>\n",
              "    <tr>\n",
              "      <th>25%</th>\n",
              "      <td>27.000000</td>\n",
              "      <td>26.300000</td>\n",
              "      <td>0.000000</td>\n",
              "      <td>4740.287500</td>\n",
              "    </tr>\n",
              "    <tr>\n",
              "      <th>50%</th>\n",
              "      <td>39.000000</td>\n",
              "      <td>30.400000</td>\n",
              "      <td>1.000000</td>\n",
              "      <td>9382.030000</td>\n",
              "    </tr>\n",
              "    <tr>\n",
              "      <th>75%</th>\n",
              "      <td>51.000000</td>\n",
              "      <td>34.700000</td>\n",
              "      <td>2.000000</td>\n",
              "      <td>16639.915000</td>\n",
              "    </tr>\n",
              "    <tr>\n",
              "      <th>max</th>\n",
              "      <td>64.000000</td>\n",
              "      <td>53.100000</td>\n",
              "      <td>5.000000</td>\n",
              "      <td>63770.430000</td>\n",
              "    </tr>\n",
              "  </tbody>\n",
              "</table>\n",
              "</div>\n",
              "      <button class=\"colab-df-convert\" onclick=\"convertToInteractive('df-1e26ef34-bf36-4b8d-bbe3-6d15044e4c67')\"\n",
              "              title=\"Convert this dataframe to an interactive table.\"\n",
              "              style=\"display:none;\">\n",
              "        \n",
              "  <svg xmlns=\"http://www.w3.org/2000/svg\" height=\"24px\"viewBox=\"0 0 24 24\"\n",
              "       width=\"24px\">\n",
              "    <path d=\"M0 0h24v24H0V0z\" fill=\"none\"/>\n",
              "    <path d=\"M18.56 5.44l.94 2.06.94-2.06 2.06-.94-2.06-.94-.94-2.06-.94 2.06-2.06.94zm-11 1L8.5 8.5l.94-2.06 2.06-.94-2.06-.94L8.5 2.5l-.94 2.06-2.06.94zm10 10l.94 2.06.94-2.06 2.06-.94-2.06-.94-.94-2.06-.94 2.06-2.06.94z\"/><path d=\"M17.41 7.96l-1.37-1.37c-.4-.4-.92-.59-1.43-.59-.52 0-1.04.2-1.43.59L10.3 9.45l-7.72 7.72c-.78.78-.78 2.05 0 2.83L4 21.41c.39.39.9.59 1.41.59.51 0 1.02-.2 1.41-.59l7.78-7.78 2.81-2.81c.8-.78.8-2.07 0-2.86zM5.41 20L4 18.59l7.72-7.72 1.47 1.35L5.41 20z\"/>\n",
              "  </svg>\n",
              "      </button>\n",
              "      \n",
              "  <style>\n",
              "    .colab-df-container {\n",
              "      display:flex;\n",
              "      flex-wrap:wrap;\n",
              "      gap: 12px;\n",
              "    }\n",
              "\n",
              "    .colab-df-convert {\n",
              "      background-color: #E8F0FE;\n",
              "      border: none;\n",
              "      border-radius: 50%;\n",
              "      cursor: pointer;\n",
              "      display: none;\n",
              "      fill: #1967D2;\n",
              "      height: 32px;\n",
              "      padding: 0 0 0 0;\n",
              "      width: 32px;\n",
              "    }\n",
              "\n",
              "    .colab-df-convert:hover {\n",
              "      background-color: #E2EBFA;\n",
              "      box-shadow: 0px 1px 2px rgba(60, 64, 67, 0.3), 0px 1px 3px 1px rgba(60, 64, 67, 0.15);\n",
              "      fill: #174EA6;\n",
              "    }\n",
              "\n",
              "    [theme=dark] .colab-df-convert {\n",
              "      background-color: #3B4455;\n",
              "      fill: #D2E3FC;\n",
              "    }\n",
              "\n",
              "    [theme=dark] .colab-df-convert:hover {\n",
              "      background-color: #434B5C;\n",
              "      box-shadow: 0px 1px 3px 1px rgba(0, 0, 0, 0.15);\n",
              "      filter: drop-shadow(0px 1px 2px rgba(0, 0, 0, 0.3));\n",
              "      fill: #FFFFFF;\n",
              "    }\n",
              "  </style>\n",
              "\n",
              "      <script>\n",
              "        const buttonEl =\n",
              "          document.querySelector('#df-1e26ef34-bf36-4b8d-bbe3-6d15044e4c67 button.colab-df-convert');\n",
              "        buttonEl.style.display =\n",
              "          google.colab.kernel.accessAllowed ? 'block' : 'none';\n",
              "\n",
              "        async function convertToInteractive(key) {\n",
              "          const element = document.querySelector('#df-1e26ef34-bf36-4b8d-bbe3-6d15044e4c67');\n",
              "          const dataTable =\n",
              "            await google.colab.kernel.invokeFunction('convertToInteractive',\n",
              "                                                     [key], {});\n",
              "          if (!dataTable) return;\n",
              "\n",
              "          const docLinkHtml = 'Like what you see? Visit the ' +\n",
              "            '<a target=\"_blank\" href=https://colab.research.google.com/notebooks/data_table.ipynb>data table notebook</a>'\n",
              "            + ' to learn more about interactive tables.';\n",
              "          element.innerHTML = '';\n",
              "          dataTable['output_type'] = 'display_data';\n",
              "          await google.colab.output.renderOutput(dataTable, element);\n",
              "          const docLink = document.createElement('div');\n",
              "          docLink.innerHTML = docLinkHtml;\n",
              "          element.appendChild(docLink);\n",
              "        }\n",
              "      </script>\n",
              "    </div>\n",
              "  </div>\n",
              "  "
            ],
            "text/plain": [
              "               age          bmi     children      expenses\n",
              "count  1338.000000  1338.000000  1338.000000   1338.000000\n",
              "mean     39.207025    30.665471     1.094918  13270.422414\n",
              "std      14.049960     6.098382     1.205493  12110.011240\n",
              "min      18.000000    16.000000     0.000000   1121.870000\n",
              "25%      27.000000    26.300000     0.000000   4740.287500\n",
              "50%      39.000000    30.400000     1.000000   9382.030000\n",
              "75%      51.000000    34.700000     2.000000  16639.915000\n",
              "max      64.000000    53.100000     5.000000  63770.430000"
            ]
          },
          "metadata": {},
          "execution_count": 97
        }
      ]
    },
    {
      "cell_type": "code",
      "metadata": {
        "colab": {
          "base_uri": "https://localhost:8080/",
          "height": 351
        },
        "id": "hQBaVH8NWisS",
        "outputId": "da7f29b4-b436-4800-f4e7-cb06097b7e48"
      },
      "source": [
        "#checking for outlier\n",
        "sns.boxplot(insurance_df[\"expenses\"])"
      ],
      "execution_count": null,
      "outputs": [
        {
          "output_type": "stream",
          "name": "stderr",
          "text": [
            "/usr/local/lib/python3.7/dist-packages/seaborn/_decorators.py:43: FutureWarning: Pass the following variable as a keyword arg: x. From version 0.12, the only valid positional argument will be `data`, and passing other arguments without an explicit keyword will result in an error or misinterpretation.\n",
            "  FutureWarning\n"
          ]
        },
        {
          "output_type": "execute_result",
          "data": {
            "text/plain": [
              "<matplotlib.axes._subplots.AxesSubplot at 0x7f0948be8e10>"
            ]
          },
          "metadata": {},
          "execution_count": 98
        },
        {
          "output_type": "display_data",
          "data": {
            "image/png": "[encoded data removed]",
            "text/plain": [
              "<Figure size 432x288 with 1 Axes>"
            ]
          },
          "metadata": {
            "needs_background": "light"
          }
        }
      ]
    },
    {
      "cell_type": "markdown",
      "metadata": {
        "id": "y3tPptcFgFen"
      },
      "source": [
        "outlier detected in expenses. we will remove it using zscore."
      ]
    },
    {
      "cell_type": "code",
      "metadata": {
        "colab": {
          "base_uri": "https://localhost:8080/",
          "height": 525
        },
        "id": "fj_dbb5JWhMe",
        "outputId": "8e87e886-6b34-468b-8cef-057f4baa9bf2"
      },
      "source": [
        "# Dependent variable 'expenses'\n",
        "plt.figure(figsize=(7,7))\n",
        "sns.distplot(insurance_df['expenses'],color=\"y\")"
      ],
      "execution_count": null,
      "outputs": [
        {
          "output_type": "stream",
          "name": "stderr",
          "text": [
            "/usr/local/lib/python3.7/dist-packages/seaborn/distributions.py:2619: FutureWarning: `distplot` is a deprecated function and will be removed in a future version. Please adapt your code to use either `displot` (a figure-level function with similar flexibility) or `histplot` (an axes-level function for histograms).\n",
            "  warnings.warn(msg, FutureWarning)\n"
          ]
        },
        {
          "output_type": "execute_result",
          "data": {
            "text/plain": [
              "<matplotlib.axes._subplots.AxesSubplot at 0x7f0948b25ad0>"
            ]
          },
          "metadata": {},
          "execution_count": 99
        },
        {
          "output_type": "display_data",
          "data": {
            "image/png": "[encoded data removed]",
            "text/plain": [
              "<Figure size 504x504 with 1 Axes>"
            ]
          },
          "metadata": {
            "needs_background": "light"
          }
        }
      ]
    },
    {
      "cell_type": "code",
      "metadata": {
        "colab": {
          "base_uri": "https://localhost:8080/",
          "height": 514
        },
        "id": "O6e3s74MWhHg",
        "outputId": "e69eedea-f17b-49db-b02c-2547f0d49b50"
      },
      "source": [
        "#replacing original expenses column with the log transformed values.\n",
        "# Dependent variable 'expenses'\n",
        "plt.figure(figsize=(7,7))\n",
        "insurance_df['expenses'] = np.log10(insurance_df['expenses'])\n",
        "sns.distplot(insurance_df['expenses'])"
      ],
      "execution_count": null,
      "outputs": [
        {
          "output_type": "stream",
          "name": "stderr",
          "text": [
            "/usr/local/lib/python3.7/dist-packages/seaborn/distributions.py:2619: FutureWarning: `distplot` is a deprecated function and will be removed in a future version. Please adapt your code to use either `displot` (a figure-level function with similar flexibility) or `histplot` (an axes-level function for histograms).\n",
            "  warnings.warn(msg, FutureWarning)\n"
          ]
        },
        {
          "output_type": "execute_result",
          "data": {
            "text/plain": [
              "<matplotlib.axes._subplots.AxesSubplot at 0x7f0948b52650>"
            ]
          },
          "metadata": {},
          "execution_count": 100
        },
        {
          "output_type": "display_data",
          "data": {
            "image/png": "[encoded data removed]",
            "text/plain": [
              "<Figure size 504x504 with 1 Axes>"
            ]
          },
          "metadata": {
            "needs_background": "light"
          }
        }
      ]
    },
    {
      "cell_type": "code",
      "metadata": {
        "id": "El0sVTAl-U3C"
      },
      "source": [
        "#dropping outlier from expenses column\n",
        "from scipy import stats\n",
        "z_scores = stats.zscore(insurance_df['expenses'])  #calculating zscore for expense column\n",
        "abs_z_scores = np.abs(z_scores)                    #taking absolute zscore\n",
        "filtered_entries = (abs_z_scores < 3)              #taking only those rows have absolute_zscore<3\n",
        "insurance_df = insurance_df[filtered_entries]"
      ],
      "execution_count": null,
      "outputs": []
    },
    {
      "cell_type": "code",
      "source": [
        "#after imputing outlier\n",
        "sns.boxplot(insurance_df[\"expenses\"])"
      ],
      "metadata": {
        "id": "VkpzpJnvACj6",
        "colab": {
          "base_uri": "https://localhost:8080/",
          "height": 351
        },
        "outputId": "9362f979-0d6e-4345-923d-cd33c1656e44"
      },
      "execution_count": null,
      "outputs": [
        {
          "output_type": "stream",
          "name": "stderr",
          "text": [
            "/usr/local/lib/python3.7/dist-packages/seaborn/_decorators.py:43: FutureWarning: Pass the following variable as a keyword arg: x. From version 0.12, the only valid positional argument will be `data`, and passing other arguments without an explicit keyword will result in an error or misinterpretation.\n",
            "  FutureWarning\n"
          ]
        },
        {
          "output_type": "execute_result",
          "data": {
            "text/plain": [
              "<matplotlib.axes._subplots.AxesSubplot at 0x7f0948bbc7d0>"
            ]
          },
          "metadata": {},
          "execution_count": 102
        },
        {
          "output_type": "display_data",
          "data": {
            "image/png": "[encoded data removed]",
            "text/plain": [
              "<Figure size 432x288 with 1 Axes>"
            ]
          },
          "metadata": {
            "needs_background": "light"
          }
        }
      ]
    },
    {
      "cell_type": "code",
      "source": [
        "# Dependent variable 'expenses'\n",
        "plt.figure(figsize=(7,7))\n",
        "sns.distplot(insurance_df['expenses'],color=\"y\")"
      ],
      "metadata": {
        "colab": {
          "base_uri": "https://localhost:8080/",
          "height": 514
        },
        "id": "m7G8GYjWPslT",
        "outputId": "477850d7-fd62-442a-fa99-079213bfe33c"
      },
      "execution_count": null,
      "outputs": [
        {
          "output_type": "stream",
          "name": "stderr",
          "text": [
            "/usr/local/lib/python3.7/dist-packages/seaborn/distributions.py:2619: FutureWarning: `distplot` is a deprecated function and will be removed in a future version. Please adapt your code to use either `displot` (a figure-level function with similar flexibility) or `histplot` (an axes-level function for histograms).\n",
            "  warnings.warn(msg, FutureWarning)\n"
          ]
        },
        {
          "output_type": "execute_result",
          "data": {
            "text/plain": [
              "<matplotlib.axes._subplots.AxesSubplot at 0x7f09451e7d50>"
            ]
          },
          "metadata": {},
          "execution_count": 103
        },
        {
          "output_type": "display_data",
          "data": {
            "image/png": "[encoded data removed]",
            "text/plain": [
              "<Figure size 504x504 with 1 Axes>"
            ]
          },
          "metadata": {
            "needs_background": "light"
          }
        }
      ]
    },
    {
      "cell_type": "code",
      "metadata": {
        "colab": {
          "base_uri": "https://localhost:8080/",
          "height": 378
        },
        "id": "3pnVs6hjWiSw",
        "outputId": "22ad7bb3-e7b4-44a5-e175-461a4bff2d8a"
      },
      "source": [
        "#checking correlation of our data\n",
        "corr_matrix = insurance_df.corr(method='spearman')\n",
        "plt.figure(figsize=(10,6))\n",
        "sns.heatmap(corr_matrix, annot=True)\n",
        "plt.show()"
      ],
      "execution_count": null,
      "outputs": [
        {
          "output_type": "display_data",
          "data": {
            "image/png": "[encoded data removed]",
            "text/plain": [
              "<Figure size 720x432 with 2 Axes>"
            ]
          },
          "metadata": {
            "needs_background": "light"
          }
        }
      ]
    },
    {
      "cell_type": "markdown",
      "metadata": {
        "id": "adXLE9TfgyGH"
      },
      "source": [
        "There are no such column with high correaltion. so we can keep all columns to predict expenses."
      ]
    },
    {
      "cell_type": "code",
      "metadata": {
        "colab": {
          "base_uri": "https://localhost:8080/"
        },
        "id": "RB_J3_eqWiHP",
        "outputId": "35c3b336-e34f-4188-9db1-b906c24ebe2c"
      },
      "source": [
        "#check for duplicate data\n",
        "duplicate = insurance_df.duplicated()\n",
        "print(duplicate.value_counts())"
      ],
      "execution_count": null,
      "outputs": [
        {
          "output_type": "stream",
          "name": "stdout",
          "text": [
            "False    1337\n",
            "True        1\n",
            "dtype: int64\n"
          ]
        }
      ]
    },
    {
      "cell_type": "markdown",
      "metadata": {
        "id": "OPtGSf35hDBl"
      },
      "source": [
        "there is only one duplicate data. so we will drop that duplicate data."
      ]
    },
    {
      "cell_type": "code",
      "metadata": {
        "id": "Rn96QjlUWiCu"
      },
      "source": [
        "#drop duplicate rows- if any\n",
        "insurance_df.drop_duplicates(inplace= True)"
      ],
      "execution_count": null,
      "outputs": []
    },
    {
      "cell_type": "code",
      "metadata": {
        "colab": {
          "base_uri": "https://localhost:8080/"
        },
        "id": "HmbDUQQVWh95",
        "outputId": "16e62c9b-a65f-4096-d5dc-848cb886827e"
      },
      "source": [
        "#check for duplicate data again\n",
        "insurance_df.duplicated().sum()"
      ],
      "execution_count": null,
      "outputs": [
        {
          "output_type": "execute_result",
          "data": {
            "text/plain": [
              "0"
            ]
          },
          "metadata": {},
          "execution_count": 107
        }
      ]
    },
    {
      "cell_type": "code",
      "metadata": {
        "colab": {
          "base_uri": "https://localhost:8080/"
        },
        "id": "xCoEQJ-n7AXL",
        "outputId": "783ca39c-88d8-4ac2-fb6e-acadea29e109"
      },
      "source": [
        "insurance_df.info()"
      ],
      "execution_count": null,
      "outputs": [
        {
          "output_type": "stream",
          "name": "stdout",
          "text": [
            "<class 'pandas.core.frame.DataFrame'>\n",
            "Int64Index: 1337 entries, 0 to 1337\n",
            "Data columns (total 7 columns):\n",
            " #   Column    Non-Null Count  Dtype  \n",
            "---  ------    --------------  -----  \n",
            " 0   age       1337 non-null   int64  \n",
            " 1   sex       1337 non-null   object \n",
            " 2   bmi       1337 non-null   float64\n",
            " 3   children  1337 non-null   int64  \n",
            " 4   smoker    1337 non-null   object \n",
            " 5   region    1337 non-null   object \n",
            " 6   expenses  1337 non-null   float64\n",
            "dtypes: float64(2), int64(2), object(3)\n",
            "memory usage: 83.6+ KB\n"
          ]
        }
      ]
    },
    {
      "cell_type": "markdown",
      "metadata": {
        "id": "GBgj-7hbhh5q"
      },
      "source": [
        "**********************\n",
        "##***Visualisation***\n",
        "**********************\n"
      ]
    },
    {
      "cell_type": "code",
      "metadata": {
        "colab": {
          "base_uri": "https://localhost:8080/",
          "height": 483
        },
        "id": "0Leikn9mWh5s",
        "outputId": "6528c230-eafd-4c26-ffe8-035baf46542f"
      },
      "source": [
        "#Checking which region has more reservations\n",
        "plt.rcParams['figure.figsize'] = 8,8\n",
        "# Indexing labels. tolist() will convert the index to list for easy manipulation\n",
        "labels = insurance_df['region'].value_counts().index.tolist()\n",
        "\n",
        "# Convert value counts to list\n",
        "sizes = insurance_df['region'].value_counts().tolist()\n",
        "\n",
        "# As the name suggest, explode will determine how much each section is separated from each other\n",
        "explode = (0.01,0.01,0.01,0.01)\n",
        "\n",
        "# Determine colour of pie chart\n",
        "colors = ['lightblue','lightgreen','lightgrey', 'lightyellow']\n",
        "\n",
        "plt.pie(sizes, labels=labels,explode=explode, colors=colors, autopct='%1.2f%%', textprops={'fontsize': 14})\n",
        "plt.legend()"
      ],
      "execution_count": null,
      "outputs": [
        {
          "output_type": "execute_result",
          "data": {
            "text/plain": [
              "<matplotlib.legend.Legend at 0x7f094505e6d0>"
            ]
          },
          "metadata": {},
          "execution_count": 109
        },
        {
          "output_type": "display_data",
          "data": {
            "image/png": "[encoded data removed]",
            "text/plain": [
              "<Figure size 576x576 with 1 Axes>"
            ]
          },
          "metadata": {}
        }
      ]
    },
    {
      "cell_type": "markdown",
      "metadata": {
        "id": "tw8FMNqkiZIN"
      },
      "source": [
        "more people living in southeast region 27.22% followed by southwest 24.29%, northeast and northwest 24.29%, 24.21% respectively."
      ]
    },
    {
      "cell_type": "code",
      "metadata": {
        "colab": {
          "base_uri": "https://localhost:8080/",
          "height": 530
        },
        "id": "qzQILQaYWh1N",
        "outputId": "dfde9d5f-9607-4ebe-bf16-361594007051"
      },
      "source": [
        "#countplot for smoker in region\n",
        "insurance_df['smoker']= insurance_df.smoker.replace([1,0], ['smoker','not_smoker'])\n",
        "sns.countplot(x='smoker',hue='region',data=insurance_df)\n",
        "plt.title(\"smoker and non-smoker in different region\")"
      ],
      "execution_count": null,
      "outputs": [
        {
          "output_type": "execute_result",
          "data": {
            "text/plain": [
              "Text(0.5, 1.0, 'smoker and non-smoker in different region')"
            ]
          },
          "metadata": {},
          "execution_count": 110
        },
        {
          "output_type": "display_data",
          "data": {
            "image/png": "[encoded data removed]",
            "text/plain": [
              "<Figure size 576x576 with 1 Axes>"
            ]
          },
          "metadata": {
            "needs_background": "light"
          }
        }
      ]
    },
    {
      "cell_type": "markdown",
      "metadata": {
        "id": "R6tCFAJklv6M"
      },
      "source": [
        "there are large number of non-smoker in different region and all region have atleast 50 people smokers"
      ]
    },
    {
      "cell_type": "code",
      "metadata": {
        "colab": {
          "base_uri": "https://localhost:8080/",
          "height": 514
        },
        "id": "Hjpw_ZuCWhw5",
        "outputId": "05674c04-4f0d-4152-fc0a-30fa418e1070"
      },
      "source": [
        "#checking number of smokers in different age\n",
        "plt.rcParams['figure.figsize'] = 16,8\n",
        "sns.countplot(x='age',hue='smoker',data=insurance_df)"
      ],
      "execution_count": null,
      "outputs": [
        {
          "output_type": "execute_result",
          "data": {
            "text/plain": [
              "<matplotlib.axes._subplots.AxesSubplot at 0x7f0944f84390>"
            ]
          },
          "metadata": {},
          "execution_count": 111
        },
        {
          "output_type": "display_data",
          "data": {
            "image/png": "[encoded data removed]",
            "text/plain": [
              "<Figure size 1152x576 with 1 Axes>"
            ]
          },
          "metadata": {
            "needs_background": "light"
          }
        }
      ]
    },
    {
      "cell_type": "markdown",
      "metadata": {
        "id": "tJ-d-uOnmDNH"
      },
      "source": [
        "In all age people are smoking and maximum people are from age 19."
      ]
    },
    {
      "cell_type": "code",
      "metadata": {
        "colab": {
          "base_uri": "https://localhost:8080/",
          "height": 530
        },
        "id": "jp4760EzWhsT",
        "outputId": "3d2fe3b6-1276-494e-f45d-985bbb688cbf"
      },
      "source": [
        "#checking smoker sex wise\n",
        "plt.rcParams['figure.figsize'] = 8,8\n",
        "insurance_df['smoker']= insurance_df.smoker.replace([1,0], ['smoker','not_smoker'])\n",
        "sns.countplot(x='smoker',hue='sex',data=insurance_df)\n",
        "plt.title(\"smoker and non-smoker in sex\")"
      ],
      "execution_count": null,
      "outputs": [
        {
          "output_type": "execute_result",
          "data": {
            "text/plain": [
              "Text(0.5, 1.0, 'smoker and non-smoker in sex')"
            ]
          },
          "metadata": {},
          "execution_count": 112
        },
        {
          "output_type": "display_data",
          "data": {
            "image/png": "[encoded data removed]",
            "text/plain": [
              "<Figure size 576x576 with 1 Axes>"
            ]
          },
          "metadata": {
            "needs_background": "light"
          }
        }
      ]
    },
    {
      "cell_type": "markdown",
      "metadata": {
        "id": "xLroXYKjmxN6"
      },
      "source": [
        "gender wise male ratio is higher than female smoking and in non-smoking female have high ratio than male"
      ]
    },
    {
      "cell_type": "code",
      "metadata": {
        "colab": {
          "base_uri": "https://localhost:8080/",
          "height": 514
        },
        "id": "ygiy-heQWhnG",
        "outputId": "c041f308-223c-4af1-842a-7e125ada2780"
      },
      "source": [
        "#checking region-wise gender distribution\n",
        "sns.countplot(x='sex',hue='region',data=insurance_df)\n",
        "#plt.title(\"\")"
      ],
      "execution_count": null,
      "outputs": [
        {
          "output_type": "execute_result",
          "data": {
            "text/plain": [
              "<matplotlib.axes._subplots.AxesSubplot at 0x7f0944d42fd0>"
            ]
          },
          "metadata": {},
          "execution_count": 113
        },
        {
          "output_type": "display_data",
          "data": {
            "image/png": "[encoded data removed]",
            "text/plain": [
              "<Figure size 576x576 with 1 Axes>"
            ]
          },
          "metadata": {
            "needs_background": "light"
          }
        }
      ]
    },
    {
      "cell_type": "markdown",
      "metadata": {
        "id": "2FCFG7iPnd4I"
      },
      "source": [
        "there are almost equal number of male and female ratio in all region."
      ]
    },
    {
      "cell_type": "code",
      "metadata": {
        "colab": {
          "base_uri": "https://localhost:8080/",
          "height": 514
        },
        "id": "v3VmwILZckqK",
        "outputId": "34c368e1-5405-4e8c-8d7a-a071893247bd"
      },
      "source": [
        "#checking region wise expenses for smokers\n",
        "sns.barplot(x='region', y = 'expenses', hue='smoker',data=insurance_df)"
      ],
      "execution_count": null,
      "outputs": [
        {
          "output_type": "execute_result",
          "data": {
            "text/plain": [
              "<matplotlib.axes._subplots.AxesSubplot at 0x7f0944cf6e50>"
            ]
          },
          "metadata": {},
          "execution_count": 114
        },
        {
          "output_type": "display_data",
          "data": {
            "image/png": "[encoded data removed]",
            "text/plain": [
              "<Figure size 576x576 with 1 Axes>"
            ]
          },
          "metadata": {
            "needs_background": "light"
          }
        }
      ]
    },
    {
      "cell_type": "markdown",
      "metadata": {
        "id": "9kZ-lctsn8xZ"
      },
      "source": [
        "from above graph found that smoker have high expenses compare to non-smoker."
      ]
    },
    {
      "cell_type": "code",
      "metadata": {
        "colab": {
          "base_uri": "https://localhost:8080/",
          "height": 459
        },
        "id": "QlWzrSVndwiD",
        "outputId": "7fdb48dc-4ab4-47ae-d853-7b385200ba22"
      },
      "source": [
        "#checking expenses gender wise if it's smoker or not\n",
        "plt.rcParams['figure.figsize'] = 10,7\n",
        "sns.barplot(x='sex', y = 'expenses', hue='smoker',data=insurance_df)"
      ],
      "execution_count": null,
      "outputs": [
        {
          "output_type": "execute_result",
          "data": {
            "text/plain": [
              "<matplotlib.axes._subplots.AxesSubplot at 0x7f0945094cd0>"
            ]
          },
          "metadata": {},
          "execution_count": 115
        },
        {
          "output_type": "display_data",
          "data": {
            "image/png": "[encoded data removed]",
            "text/plain": [
              "<Figure size 720x504 with 1 Axes>"
            ]
          },
          "metadata": {
            "needs_background": "light"
          }
        }
      ]
    },
    {
      "cell_type": "markdown",
      "metadata": {
        "id": "j0ja9X9DonyV"
      },
      "source": [
        "from above graph we found that rather male or female if he/she is smoking they are having higher expenses compare to the non-smokers"
      ]
    },
    {
      "cell_type": "code",
      "metadata": {
        "colab": {
          "base_uri": "https://localhost:8080/",
          "height": 514
        },
        "id": "obD92K2-fKkR",
        "outputId": "e452f236-02ea-46a8-bb1b-3587a4cbd5e6"
      },
      "source": [
        "#ploting batplot to finalise that smoker have higher expenses than non-smoker\n",
        "plt.rcParams['figure.figsize'] = 8,8\n",
        "sns.barplot(x='smoker', y = 'expenses',data=insurance_df)"
      ],
      "execution_count": null,
      "outputs": [
        {
          "output_type": "execute_result",
          "data": {
            "text/plain": [
              "<matplotlib.axes._subplots.AxesSubplot at 0x7f0948dfbdd0>"
            ]
          },
          "metadata": {},
          "execution_count": 116
        },
        {
          "output_type": "display_data",
          "data": {
            "image/png": "[encoded data removed]",
            "text/plain": [
              "<Figure size 576x576 with 1 Axes>"
            ]
          },
          "metadata": {
            "needs_background": "light"
          }
        }
      ]
    },
    {
      "cell_type": "markdown",
      "metadata": {
        "id": "eckxd7XYpyV-"
      },
      "source": [
        "Above we checked expenses for smokers and non-smoker.Now below we wil check smoker and non-smoker in our data"
      ]
    },
    {
      "cell_type": "code",
      "metadata": {
        "colab": {
          "base_uri": "https://localhost:8080/"
        },
        "id": "lYNK80RceaHC",
        "outputId": "3467d9e8-17fa-4cc3-f968-8d34c66d7480"
      },
      "source": [
        "insurance_df[\"smoker\"].value_counts()"
      ],
      "execution_count": null,
      "outputs": [
        {
          "output_type": "execute_result",
          "data": {
            "text/plain": [
              "no     1063\n",
              "yes     274\n",
              "Name: smoker, dtype: int64"
            ]
          },
          "metadata": {},
          "execution_count": 117
        }
      ]
    },
    {
      "cell_type": "markdown",
      "metadata": {
        "id": "gau65_beqC2V"
      },
      "source": [
        "in our data 1063 people are smokers and 267 people are non-smokers."
      ]
    },
    {
      "cell_type": "code",
      "metadata": {
        "colab": {
          "base_uri": "https://localhost:8080/",
          "height": 530
        },
        "id": "FDxPapYQWhiu",
        "outputId": "c29f08b1-0985-4f9a-e9af-01d027c67fda"
      },
      "source": [
        "#countplot for smoker and non-smoker\n",
        "insurance_df[\"smoker\"].value_counts()\n",
        "plt.figure(figsize=(6,7))\n",
        "sns.countplot(insurance_df[\"smoker\"], palette=\"gnuplot2\")\n",
        "plt.title(\"smoker count\")"
      ],
      "execution_count": null,
      "outputs": [
        {
          "output_type": "stream",
          "name": "stderr",
          "text": [
            "/usr/local/lib/python3.7/dist-packages/seaborn/_decorators.py:43: FutureWarning: Pass the following variable as a keyword arg: x. From version 0.12, the only valid positional argument will be `data`, and passing other arguments without an explicit keyword will result in an error or misinterpretation.\n",
            "  FutureWarning\n"
          ]
        },
        {
          "output_type": "execute_result",
          "data": {
            "text/plain": [
              "Text(0.5, 1.0, 'smoker count')"
            ]
          },
          "metadata": {},
          "execution_count": 118
        },
        {
          "output_type": "display_data",
          "data": {
            "image/png": "[encoded data removed]",
            "text/plain": [
              "<Figure size 432x504 with 1 Axes>"
            ]
          },
          "metadata": {
            "needs_background": "light"
          }
        }
      ]
    },
    {
      "cell_type": "markdown",
      "metadata": {
        "id": "RMIxH6swqSs0"
      },
      "source": [
        "From above graph we can found that there are very less people are smoking compare to non-smoker.(rather we have very less people with smoking but there is large effect on expenses because smokers are having large expenses.this we will check using scatterplot.)"
      ]
    },
    {
      "cell_type": "code",
      "metadata": {
        "colab": {
          "base_uri": "https://localhost:8080/",
          "height": 513
        },
        "id": "TLmrXEcbWheT",
        "outputId": "c6a48979-322c-49e8-e068-1134e9846d46"
      },
      "source": [
        "#ploting scatter plot for age vs expenses\n",
        "plt.scatter(insurance_df['age'], insurance_df['expenses'], alpha=0.5)\n",
        "plt.title('Scatter plot of age with expenses')\n",
        "plt.xlabel('age')\n",
        "plt.ylabel('expenses')\n",
        "plt.show()"
      ],
      "execution_count": null,
      "outputs": [
        {
          "output_type": "display_data",
          "data": {
            "image/png": "[encoded data removed]",
            "text/plain": [
              "<Figure size 576x576 with 1 Axes>"
            ]
          },
          "metadata": {
            "needs_background": "light"
          }
        }
      ]
    },
    {
      "cell_type": "markdown",
      "metadata": {
        "id": "Y_P6Q_P0rQKf"
      },
      "source": [
        "We can see that from above chart all the smoker having large expenses and non-smokers having linearly increasing expenses."
      ]
    },
    {
      "cell_type": "code",
      "metadata": {
        "colab": {
          "base_uri": "https://localhost:8080/",
          "height": 513
        },
        "id": "5n7I7y6Q1gRS",
        "outputId": "8b8a1a7e-098a-4d75-e59c-5707975f319f"
      },
      "source": [
        "#ploting scatter plot for age vs bmi\n",
        "plt.scatter(insurance_df['age'], insurance_df['bmi'], alpha=0.5)\n",
        "plt.title('Scatter plot of age with bmi')\n",
        "plt.xlabel('age')\n",
        "plt.ylabel('bmi')\n",
        "plt.show()"
      ],
      "execution_count": null,
      "outputs": [
        {
          "output_type": "display_data",
          "data": {
            "image/png": "[encoded data removed]",
            "text/plain": [
              "<Figure size 576x576 with 1 Axes>"
            ]
          },
          "metadata": {
            "needs_background": "light"
          }
        }
      ]
    },
    {
      "cell_type": "markdown",
      "metadata": {
        "id": "U6ljKPOn3DAB"
      },
      "source": [
        "no correlation between age and bmi"
      ]
    },
    {
      "cell_type": "code",
      "metadata": {
        "colab": {
          "base_uri": "https://localhost:8080/",
          "height": 513
        },
        "id": "nXfnnamH2Cdd",
        "outputId": "abd6581f-8e57-4ef9-c375-a87aa16badc5"
      },
      "source": [
        "#ploting scatter plot for bmi vs expenses\n",
        "plt.scatter(insurance_df['bmi'], insurance_df['expenses'], alpha=0.5)\n",
        "plt.title('Scatter plot of bmi with expenses')\n",
        "plt.xlabel('bmi')\n",
        "plt.ylabel('expenses')\n",
        "plt.show()"
      ],
      "execution_count": null,
      "outputs": [
        {
          "output_type": "display_data",
          "data": {
            "image/png": "[encoded data removed]",
            "text/plain": [
              "<Figure size 576x576 with 1 Axes>"
            ]
          },
          "metadata": {
            "needs_background": "light"
          }
        }
      ]
    },
    {
      "cell_type": "markdown",
      "metadata": {
        "id": "X3nvcbYS3KDX"
      },
      "source": [
        "from above plot we can see that there are some data points are realted with bmi maybe because of they are smokers."
      ]
    },
    {
      "cell_type": "code",
      "metadata": {
        "colab": {
          "base_uri": "https://localhost:8080/",
          "height": 513
        },
        "id": "XCI8CNNSWhVk",
        "outputId": "d37dc5f2-21f6-4ea6-99f7-ea6b91c4456b"
      },
      "source": [
        "#plotting scatterplot children vs expenses\n",
        "plt.scatter(insurance_df['children'], insurance_df['expenses'], alpha=0.5)\n",
        "plt.title('Scatter plot of children with expenses')\n",
        "plt.xlabel('children')\n",
        "plt.ylabel('expenses')\n",
        "plt.show()"
      ],
      "execution_count": null,
      "outputs": [
        {
          "output_type": "display_data",
          "data": {
            "image/png": "[encoded data removed]",
            "text/plain": [
              "<Figure size 576x576 with 1 Axes>"
            ]
          },
          "metadata": {
            "needs_background": "light"
          }
        }
      ]
    },
    {
      "cell_type": "code",
      "metadata": {
        "colab": {
          "base_uri": "https://localhost:8080/",
          "height": 513
        },
        "id": "ivJN0gduWhRI",
        "outputId": "b6a51ac6-e69a-4184-890e-c0b7c933460b"
      },
      "source": [
        "#plotting scatterplot region vs expenses\n",
        "plt.scatter(insurance_df['region'], insurance_df['expenses'], alpha=0.5)\n",
        "plt.title('Scatter plot of region with expenses')\n",
        "plt.xlabel('region')\n",
        "plt.ylabel('expenses')\n",
        "plt.show()"
      ],
      "execution_count": null,
      "outputs": [
        {
          "output_type": "display_data",
          "data": {
            "image/png": "[encoded data removed]",
            "text/plain": [
              "<Figure size 576x576 with 1 Axes>"
            ]
          },
          "metadata": {
            "needs_background": "light"
          }
        }
      ]
    },
    {
      "cell_type": "code",
      "source": [
        "#ploting scatter plot for age vs expenses\n",
        "plt.scatter(insurance_df['age'], insurance_df['expenses'], alpha=0.5)\n",
        "plt.title('Scatter plot of age with expenses')\n",
        "plt.xlabel('age')\n",
        "plt.ylabel('expenses')\n",
        "plt.show()"
      ],
      "metadata": {
        "colab": {
          "base_uri": "https://localhost:8080/",
          "height": 513
        },
        "id": "d_Lbtlnxmocb",
        "outputId": "04dabe78-c40c-4fc4-c6a7-d66b8b6bba70"
      },
      "execution_count": null,
      "outputs": [
        {
          "output_type": "display_data",
          "data": {
            "image/png": "[encoded data removed]",
            "text/plain": [
              "<Figure size 576x576 with 1 Axes>"
            ]
          },
          "metadata": {
            "needs_background": "light"
          }
        }
      ]
    },
    {
      "cell_type": "code",
      "source": [
        "#ploting scatter plot for smoker vs expenses\n",
        "plt.scatter(insurance_df['smoker'], insurance_df['expenses'], alpha=0.5)\n",
        "plt.title('Scatter plot of smoker with expenses')\n",
        "plt.xlabel('smoker')\n",
        "plt.ylabel('expenses')\n",
        "plt.show()"
      ],
      "metadata": {
        "colab": {
          "base_uri": "https://localhost:8080/",
          "height": 513
        },
        "id": "QUwDNnduU4Mv",
        "outputId": "88bfd941-f5d7-4c20-d401-e2d84b40b88e"
      },
      "execution_count": null,
      "outputs": [
        {
          "output_type": "display_data",
          "data": {
            "image/png": "[encoded data removed]",
            "text/plain": [
              "<Figure size 576x576 with 1 Axes>"
            ]
          },
          "metadata": {
            "needs_background": "light"
          }
        }
      ]
    },
    {
      "cell_type": "code",
      "source": [
        "#ploting scatter plot for age vs smoker\n",
        "plt.scatter(insurance_df['smoker'], insurance_df['age'], alpha=0.09)\n",
        "plt.title('Scatter plot of smoker with age')\n",
        "plt.xlabel('smoker')\n",
        "plt.ylabel('age')\n",
        "plt.show()"
      ],
      "metadata": {
        "colab": {
          "base_uri": "https://localhost:8080/",
          "height": 513
        },
        "id": "tFhdRV9UVWLd",
        "outputId": "a81e2ac0-7358-4fbb-c4a7-8b8a8b0a634c"
      },
      "execution_count": null,
      "outputs": [
        {
          "output_type": "display_data",
          "data": {
            "image/png": "[encoded data removed]",
            "text/plain": [
              "<Figure size 576x576 with 1 Axes>"
            ]
          },
          "metadata": {
            "needs_background": "light"
          }
        }
      ]
    },
    {
      "cell_type": "code",
      "source": [
        "#ploting scatter plot for smoker vs children\n",
        "plt.scatter(insurance_df['smoker'], insurance_df['children'], alpha=0.09)\n",
        "plt.title('Scatter plot of smoker with children')\n",
        "plt.xlabel('smoker')\n",
        "plt.ylabel('children')\n",
        "plt.show()"
      ],
      "metadata": {
        "colab": {
          "base_uri": "https://localhost:8080/",
          "height": 513
        },
        "id": "4oS8P19IWi8m",
        "outputId": "2e327f5f-3a2e-468d-cc62-60bd1598bd1b"
      },
      "execution_count": null,
      "outputs": [
        {
          "output_type": "display_data",
          "data": {
            "image/png": "[encoded data removed]",
            "text/plain": [
              "<Figure size 576x576 with 1 Axes>"
            ]
          },
          "metadata": {
            "needs_background": "light"
          }
        }
      ]
    },
    {
      "cell_type": "markdown",
      "metadata": {
        "id": "M1zAjGT74k9T"
      },
      "source": [
        "----------------------------\n",
        "##***Feature Engineering***\n",
        "---------------------------"
      ]
    },
    {
      "cell_type": "code",
      "metadata": {
        "id": "NzBCeTRsXhSk"
      },
      "source": [
        "# Create dummy variables for the catgeorical variable sex\n",
        "insurance_df['male_'] = np.where(insurance_df['sex']=='male', 1, 0)\n",
        "\n",
        "# Drop the original column sex from the dataframe\n",
        "insurance_df.drop(columns=['sex'],axis=1,inplace=True)"
      ],
      "execution_count": null,
      "outputs": []
    },
    {
      "cell_type": "code",
      "metadata": {
        "id": "Ss2cbjbz6zeL"
      },
      "source": [
        "#categorizing person depends on it's bmi\n",
        "def categorize_bmi(bmi):\n",
        "    if (bmi <= 18.5):\n",
        "      cat1 = \"Underweight\"\n",
        "      return cat1\n",
        "    elif (18.5 < bmi <= 24.9):\n",
        "      cat2 = \"Normal\"\n",
        "      return cat2\n",
        "    elif (24.9 < bmi <= 29.9):\n",
        "      cat3 = \"Overweight\"\n",
        "      return cat3\n",
        "    elif (bmi >= 30):\n",
        "      cat4 = \"Obese\"\n",
        "      return cat4"
      ],
      "execution_count": null,
      "outputs": []
    },
    {
      "cell_type": "code",
      "metadata": {
        "id": "NlAns4-utesN"
      },
      "source": [
        "#creating new column for categorize bmi\n",
        "insurance_df['bmi_category'] = insurance_df['bmi'].apply (lambda BMI: categorize_bmi(BMI))"
      ],
      "execution_count": null,
      "outputs": []
    },
    {
      "cell_type": "code",
      "source": [
        "# Create dummy variables for the catgeorical variable bmi\n",
        "insurance_df['Underweight_bmi'] = np.where(insurance_df['bmi_category']=='Underweight', 1, 0)\n",
        "insurance_df['Normal_bmi'] = np.where(insurance_df['bmi_category']=='Normal', 1, 0)\n",
        "insurance_df['Overweight_bmi'] = np.where(insurance_df['bmi_category']=='Overweight', 1, 0)\n",
        "insurance_df['Obese_bmi'] = np.where(insurance_df['bmi_category']=='Obese', 1, 0)\n",
        "\n",
        "# Drop the original column bmi and bmi_category from the dataframe\n",
        "insurance_df.drop(columns=[\"bmi\",\"bmi_category\"],axis=1,inplace=True)"
      ],
      "metadata": {
        "id": "hhxR-SqlUgAT"
      },
      "execution_count": null,
      "outputs": []
    },
    {
      "cell_type": "code",
      "metadata": {
        "id": "tpop_xPvoM8r"
      },
      "source": [
        "# Create dummy variables for the catgeorical variable children\n",
        "insurance_df['children_1'] = np.where(insurance_df['children']== 1 , 1, 0)\n",
        "insurance_df['children_2'] = np.where(insurance_df['children']== 2 , 1, 0)\n",
        "insurance_df['children_3'] = np.where(insurance_df['children']== 3 , 1, 0)\n",
        "insurance_df['children_4'] = np.where(insurance_df['children']== 4 , 1, 0)\n",
        "insurance_df['children_5'] = np.where(insurance_df['children']== 5 , 1, 0)\n",
        "\n",
        "# Drop the original column children from the dataframe\n",
        "insurance_df.drop(columns=['children'],axis=1,inplace=True)"
      ],
      "execution_count": null,
      "outputs": []
    },
    {
      "cell_type": "code",
      "metadata": {
        "id": "b_ttCzIaXhYP"
      },
      "source": [
        "# Create dummy variables for the catgeorical variable smoker\n",
        "insurance_df['smoker_'] = np.where(insurance_df['smoker']=='yes', 1, 0)\n",
        "\n",
        "# Drop the original column smoker from the dataframe\n",
        "insurance_df.drop(columns=['smoker'],axis=1,inplace=True)"
      ],
      "execution_count": null,
      "outputs": []
    },
    {
      "cell_type": "code",
      "metadata": {
        "id": "ZUkfaS2XXhh8"
      },
      "source": [
        "# Create dummy variables for the catgeorical variable region\n",
        "insurance_df['southeast_region'] = np.where(insurance_df['region']=='southeast', 1, 0)\n",
        "insurance_df['southwest_region'] = np.where(insurance_df['region']=='southwest', 1, 0)\n",
        "insurance_df['northwest_region'] = np.where(insurance_df['region']=='northwest', 1, 0)\n",
        "insurance_df['northeast_region'] = np.where(insurance_df['region']=='northeast', 1, 0)\n",
        "\n",
        "# Drop the original column region from the dataframe\n",
        "insurance_df.drop(columns=['region'],axis=1,inplace=True)"
      ],
      "execution_count": null,
      "outputs": []
    },
    {
      "cell_type": "code",
      "source": [
        "insurance_df.head()"
      ],
      "metadata": {
        "colab": {
          "base_uri": "https://localhost:8080/",
          "height": 206
        },
        "id": "u9GbgJ9qU5o_",
        "outputId": "435c3677-34bf-40d8-e46b-a0a82cfcc0b9"
      },
      "execution_count": null,
      "outputs": [
        {
          "output_type": "execute_result",
          "data": {
            "text/html": [
              "\n",
              "  <div id=\"df-e1fed40d-a1a9-4c2c-97d1-3a4fba82f01d\">\n",
              "    <div class=\"colab-df-container\">\n",
              "      <div>\n",
              "<style scoped>\n",
              "    .dataframe tbody tr th:only-of-type {\n",
              "        vertical-align: middle;\n",
              "    }\n",
              "\n",
              "    .dataframe tbody tr th {\n",
              "        vertical-align: top;\n",
              "    }\n",
              "\n",
              "    .dataframe thead th {\n",
              "        text-align: right;\n",
              "    }\n",
              "</style>\n",
              "<table border=\"1\" class=\"dataframe\">\n",
              "  <thead>\n",
              "    <tr style=\"text-align: right;\">\n",
              "      <th></th>\n",
              "      <th>age</th>\n",
              "      <th>expenses</th>\n",
              "      <th>male_</th>\n",
              "      <th>Underweight_bmi</th>\n",
              "      <th>Normal_bmi</th>\n",
              "      <th>Overweight_bmi</th>\n",
              "      <th>Obese_bmi</th>\n",
              "      <th>children_1</th>\n",
              "      <th>children_2</th>\n",
              "      <th>children_3</th>\n",
              "      <th>children_4</th>\n",
              "      <th>children_5</th>\n",
              "      <th>smoker_</th>\n",
              "      <th>southeast_region</th>\n",
              "      <th>southwest_region</th>\n",
              "      <th>northwest_region</th>\n",
              "      <th>northeast_region</th>\n",
              "    </tr>\n",
              "  </thead>\n",
              "  <tbody>\n",
              "    <tr>\n",
              "      <th>0</th>\n",
              "      <td>19</td>\n",
              "      <td>4.227499</td>\n",
              "      <td>0</td>\n",
              "      <td>0</td>\n",
              "      <td>0</td>\n",
              "      <td>1</td>\n",
              "      <td>0</td>\n",
              "      <td>0</td>\n",
              "      <td>0</td>\n",
              "      <td>0</td>\n",
              "      <td>0</td>\n",
              "      <td>0</td>\n",
              "      <td>1</td>\n",
              "      <td>0</td>\n",
              "      <td>1</td>\n",
              "      <td>0</td>\n",
              "      <td>0</td>\n",
              "    </tr>\n",
              "    <tr>\n",
              "      <th>1</th>\n",
              "      <td>18</td>\n",
              "      <td>3.236928</td>\n",
              "      <td>1</td>\n",
              "      <td>0</td>\n",
              "      <td>0</td>\n",
              "      <td>0</td>\n",
              "      <td>1</td>\n",
              "      <td>1</td>\n",
              "      <td>0</td>\n",
              "      <td>0</td>\n",
              "      <td>0</td>\n",
              "      <td>0</td>\n",
              "      <td>0</td>\n",
              "      <td>1</td>\n",
              "      <td>0</td>\n",
              "      <td>0</td>\n",
              "      <td>0</td>\n",
              "    </tr>\n",
              "    <tr>\n",
              "      <th>2</th>\n",
              "      <td>28</td>\n",
              "      <td>3.648307</td>\n",
              "      <td>1</td>\n",
              "      <td>0</td>\n",
              "      <td>0</td>\n",
              "      <td>0</td>\n",
              "      <td>1</td>\n",
              "      <td>0</td>\n",
              "      <td>0</td>\n",
              "      <td>1</td>\n",
              "      <td>0</td>\n",
              "      <td>0</td>\n",
              "      <td>0</td>\n",
              "      <td>1</td>\n",
              "      <td>0</td>\n",
              "      <td>0</td>\n",
              "      <td>0</td>\n",
              "    </tr>\n",
              "    <tr>\n",
              "      <th>3</th>\n",
              "      <td>33</td>\n",
              "      <td>4.342116</td>\n",
              "      <td>1</td>\n",
              "      <td>0</td>\n",
              "      <td>1</td>\n",
              "      <td>0</td>\n",
              "      <td>0</td>\n",
              "      <td>0</td>\n",
              "      <td>0</td>\n",
              "      <td>0</td>\n",
              "      <td>0</td>\n",
              "      <td>0</td>\n",
              "      <td>0</td>\n",
              "      <td>0</td>\n",
              "      <td>0</td>\n",
              "      <td>1</td>\n",
              "      <td>0</td>\n",
              "    </tr>\n",
              "    <tr>\n",
              "      <th>4</th>\n",
              "      <td>32</td>\n",
              "      <td>3.587358</td>\n",
              "      <td>1</td>\n",
              "      <td>0</td>\n",
              "      <td>0</td>\n",
              "      <td>1</td>\n",
              "      <td>0</td>\n",
              "      <td>0</td>\n",
              "      <td>0</td>\n",
              "      <td>0</td>\n",
              "      <td>0</td>\n",
              "      <td>0</td>\n",
              "      <td>0</td>\n",
              "      <td>0</td>\n",
              "      <td>0</td>\n",
              "      <td>1</td>\n",
              "      <td>0</td>\n",
              "    </tr>\n",
              "  </tbody>\n",
              "</table>\n",
              "</div>\n",
              "      <button class=\"colab-df-convert\" onclick=\"convertToInteractive('df-e1fed40d-a1a9-4c2c-97d1-3a4fba82f01d')\"\n",
              "              title=\"Convert this dataframe to an interactive table.\"\n",
              "              style=\"display:none;\">\n",
              "        \n",
              "  <svg xmlns=\"http://www.w3.org/2000/svg\" height=\"24px\"viewBox=\"0 0 24 24\"\n",
              "       width=\"24px\">\n",
              "    <path d=\"M0 0h24v24H0V0z\" fill=\"none\"/>\n",
              "    <path d=\"M18.56 5.44l.94 2.06.94-2.06 2.06-.94-2.06-.94-.94-2.06-.94 2.06-2.06.94zm-11 1L8.5 8.5l.94-2.06 2.06-.94-2.06-.94L8.5 2.5l-.94 2.06-2.06.94zm10 10l.94 2.06.94-2.06 2.06-.94-2.06-.94-.94-2.06-.94 2.06-2.06.94z\"/><path d=\"M17.41 7.96l-1.37-1.37c-.4-.4-.92-.59-1.43-.59-.52 0-1.04.2-1.43.59L10.3 9.45l-7.72 7.72c-.78.78-.78 2.05 0 2.83L4 21.41c.39.39.9.59 1.41.59.51 0 1.02-.2 1.41-.59l7.78-7.78 2.81-2.81c.8-.78.8-2.07 0-2.86zM5.41 20L4 18.59l7.72-7.72 1.47 1.35L5.41 20z\"/>\n",
              "  </svg>\n",
              "      </button>\n",
              "      \n",
              "  <style>\n",
              "    .colab-df-container {\n",
              "      display:flex;\n",
              "      flex-wrap:wrap;\n",
              "      gap: 12px;\n",
              "    }\n",
              "\n",
              "    .colab-df-convert {\n",
              "      background-color: #E8F0FE;\n",
              "      border: none;\n",
              "      border-radius: 50%;\n",
              "      cursor: pointer;\n",
              "      display: none;\n",
              "      fill: #1967D2;\n",
              "      height: 32px;\n",
              "      padding: 0 0 0 0;\n",
              "      width: 32px;\n",
              "    }\n",
              "\n",
              "    .colab-df-convert:hover {\n",
              "      background-color: #E2EBFA;\n",
              "      box-shadow: 0px 1px 2px rgba(60, 64, 67, 0.3), 0px 1px 3px 1px rgba(60, 64, 67, 0.15);\n",
              "      fill: #174EA6;\n",
              "    }\n",
              "\n",
              "    [theme=dark] .colab-df-convert {\n",
              "      background-color: #3B4455;\n",
              "      fill: #D2E3FC;\n",
              "    }\n",
              "\n",
              "    [theme=dark] .colab-df-convert:hover {\n",
              "      background-color: #434B5C;\n",
              "      box-shadow: 0px 1px 3px 1px rgba(0, 0, 0, 0.15);\n",
              "      filter: drop-shadow(0px 1px 2px rgba(0, 0, 0, 0.3));\n",
              "      fill: #FFFFFF;\n",
              "    }\n",
              "  </style>\n",
              "\n",
              "      <script>\n",
              "        const buttonEl =\n",
              "          document.querySelector('#df-e1fed40d-a1a9-4c2c-97d1-3a4fba82f01d button.colab-df-convert');\n",
              "        buttonEl.style.display =\n",
              "          google.colab.kernel.accessAllowed ? 'block' : 'none';\n",
              "\n",
              "        async function convertToInteractive(key) {\n",
              "          const element = document.querySelector('#df-e1fed40d-a1a9-4c2c-97d1-3a4fba82f01d');\n",
              "          const dataTable =\n",
              "            await google.colab.kernel.invokeFunction('convertToInteractive',\n",
              "                                                     [key], {});\n",
              "          if (!dataTable) return;\n",
              "\n",
              "          const docLinkHtml = 'Like what you see? Visit the ' +\n",
              "            '<a target=\"_blank\" href=https://colab.research.google.com/notebooks/data_table.ipynb>data table notebook</a>'\n",
              "            + ' to learn more about interactive tables.';\n",
              "          element.innerHTML = '';\n",
              "          dataTable['output_type'] = 'display_data';\n",
              "          await google.colab.output.renderOutput(dataTable, element);\n",
              "          const docLink = document.createElement('div');\n",
              "          docLink.innerHTML = docLinkHtml;\n",
              "          element.appendChild(docLink);\n",
              "        }\n",
              "      </script>\n",
              "    </div>\n",
              "  </div>\n",
              "  "
            ],
            "text/plain": [
              "   age  expenses  male_  ...  southwest_region  northwest_region  northeast_region\n",
              "0   19  4.227499      0  ...                 1                 0                 0\n",
              "1   18  3.236928      1  ...                 0                 0                 0\n",
              "2   28  3.648307      1  ...                 0                 0                 0\n",
              "3   33  4.342116      1  ...                 0                 1                 0\n",
              "4   32  3.587358      1  ...                 0                 1                 0\n",
              "\n",
              "[5 rows x 17 columns]"
            ]
          },
          "metadata": {},
          "execution_count": 135
        }
      ]
    },
    {
      "cell_type": "markdown",
      "metadata": {
        "id": "in4itBG03ERX"
      },
      "source": [
        "*******************\n",
        "##***Preparing model***\n",
        "*******************"
      ]
    },
    {
      "cell_type": "code",
      "metadata": {
        "id": "3ezbBFKYtzrN"
      },
      "source": [
        "from numpy import math\n",
        "\n",
        "from sklearn.preprocessing import MinMaxScaler\n",
        "from sklearn.model_selection import train_test_split\n",
        "from sklearn.linear_model import LinearRegression\n",
        "from sklearn.metrics import r2_score\n",
        "from sklearn.metrics import mean_squared_error"
      ],
      "execution_count": null,
      "outputs": []
    },
    {
      "cell_type": "code",
      "metadata": {
        "id": "HF_Pdtpu54um"
      },
      "source": [
        "#dependent variable\n",
        "dependent_variable = \"expenses\""
      ],
      "execution_count": null,
      "outputs": []
    },
    {
      "cell_type": "code",
      "metadata": {
        "id": "BJRrZBtC6Gvk"
      },
      "source": [
        "#independent variable\n",
        "independent_variable = list(set(insurance_df.columns.to_list()) - {dependent_variable} )"
      ],
      "execution_count": null,
      "outputs": []
    },
    {
      "cell_type": "code",
      "metadata": {
        "id": "S5Sfo50G6kzV",
        "colab": {
          "base_uri": "https://localhost:8080/"
        },
        "outputId": "b2461d1f-177e-4735-ebf9-340de455a2dc"
      },
      "source": [
        "independent_variable"
      ],
      "execution_count": null,
      "outputs": [
        {
          "output_type": "execute_result",
          "data": {
            "text/plain": [
              "['Underweight_bmi',\n",
              " 'children_3',\n",
              " 'southeast_region',\n",
              " 'southwest_region',\n",
              " 'male_',\n",
              " 'children_5',\n",
              " 'children_4',\n",
              " 'northeast_region',\n",
              " 'Overweight_bmi',\n",
              " 'age',\n",
              " 'children_2',\n",
              " 'children_1',\n",
              " 'northwest_region',\n",
              " 'Normal_bmi',\n",
              " 'smoker_',\n",
              " 'Obese_bmi']"
            ]
          },
          "metadata": {},
          "execution_count": 139
        }
      ]
    },
    {
      "cell_type": "code",
      "metadata": {
        "id": "kUZOlQ0h7BQM"
      },
      "source": [
        "#create the data of independent variables\n",
        "X = insurance_df[independent_variable].values\n",
        "\n",
        "#create the data of dependent variables\n",
        "y = insurance_df[dependent_variable].values"
      ],
      "execution_count": null,
      "outputs": []
    },
    {
      "cell_type": "code",
      "metadata": {
        "id": "KYjz1Qg47lyD",
        "colab": {
          "base_uri": "https://localhost:8080/",
          "height": 424
        },
        "outputId": "1ee8e513-a058-4286-c88e-387061de18a0"
      },
      "source": [
        "insurance_df[independent_variable]"
      ],
      "execution_count": null,
      "outputs": [
        {
          "output_type": "execute_result",
          "data": {
            "text/html": [
              "\n",
              "  <div id=\"df-40b36a9f-73bd-4908-a426-2a9a6142c246\">\n",
              "    <div class=\"colab-df-container\">\n",
              "      <div>\n",
              "<style scoped>\n",
              "    .dataframe tbody tr th:only-of-type {\n",
              "        vertical-align: middle;\n",
              "    }\n",
              "\n",
              "    .dataframe tbody tr th {\n",
              "        vertical-align: top;\n",
              "    }\n",
              "\n",
              "    .dataframe thead th {\n",
              "        text-align: right;\n",
              "    }\n",
              "</style>\n",
              "<table border=\"1\" class=\"dataframe\">\n",
              "  <thead>\n",
              "    <tr style=\"text-align: right;\">\n",
              "      <th></th>\n",
              "      <th>Underweight_bmi</th>\n",
              "      <th>children_3</th>\n",
              "      <th>southeast_region</th>\n",
              "      <th>southwest_region</th>\n",
              "      <th>male_</th>\n",
              "      <th>children_5</th>\n",
              "      <th>children_4</th>\n",
              "      <th>northeast_region</th>\n",
              "      <th>Overweight_bmi</th>\n",
              "      <th>age</th>\n",
              "      <th>children_2</th>\n",
              "      <th>children_1</th>\n",
              "      <th>northwest_region</th>\n",
              "      <th>Normal_bmi</th>\n",
              "      <th>smoker_</th>\n",
              "      <th>Obese_bmi</th>\n",
              "    </tr>\n",
              "  </thead>\n",
              "  <tbody>\n",
              "    <tr>\n",
              "      <th>0</th>\n",
              "      <td>0</td>\n",
              "      <td>0</td>\n",
              "      <td>0</td>\n",
              "      <td>1</td>\n",
              "      <td>0</td>\n",
              "      <td>0</td>\n",
              "      <td>0</td>\n",
              "      <td>0</td>\n",
              "      <td>1</td>\n",
              "      <td>19</td>\n",
              "      <td>0</td>\n",
              "      <td>0</td>\n",
              "      <td>0</td>\n",
              "      <td>0</td>\n",
              "      <td>1</td>\n",
              "      <td>0</td>\n",
              "    </tr>\n",
              "    <tr>\n",
              "      <th>1</th>\n",
              "      <td>0</td>\n",
              "      <td>0</td>\n",
              "      <td>1</td>\n",
              "      <td>0</td>\n",
              "      <td>1</td>\n",
              "      <td>0</td>\n",
              "      <td>0</td>\n",
              "      <td>0</td>\n",
              "      <td>0</td>\n",
              "      <td>18</td>\n",
              "      <td>0</td>\n",
              "      <td>1</td>\n",
              "      <td>0</td>\n",
              "      <td>0</td>\n",
              "      <td>0</td>\n",
              "      <td>1</td>\n",
              "    </tr>\n",
              "    <tr>\n",
              "      <th>2</th>\n",
              "      <td>0</td>\n",
              "      <td>1</td>\n",
              "      <td>1</td>\n",
              "      <td>0</td>\n",
              "      <td>1</td>\n",
              "      <td>0</td>\n",
              "      <td>0</td>\n",
              "      <td>0</td>\n",
              "      <td>0</td>\n",
              "      <td>28</td>\n",
              "      <td>0</td>\n",
              "      <td>0</td>\n",
              "      <td>0</td>\n",
              "      <td>0</td>\n",
              "      <td>0</td>\n",
              "      <td>1</td>\n",
              "    </tr>\n",
              "    <tr>\n",
              "      <th>3</th>\n",
              "      <td>0</td>\n",
              "      <td>0</td>\n",
              "      <td>0</td>\n",
              "      <td>0</td>\n",
              "      <td>1</td>\n",
              "      <td>0</td>\n",
              "      <td>0</td>\n",
              "      <td>0</td>\n",
              "      <td>0</td>\n",
              "      <td>33</td>\n",
              "      <td>0</td>\n",
              "      <td>0</td>\n",
              "      <td>1</td>\n",
              "      <td>1</td>\n",
              "      <td>0</td>\n",
              "      <td>0</td>\n",
              "    </tr>\n",
              "    <tr>\n",
              "      <th>4</th>\n",
              "      <td>0</td>\n",
              "      <td>0</td>\n",
              "      <td>0</td>\n",
              "      <td>0</td>\n",
              "      <td>1</td>\n",
              "      <td>0</td>\n",
              "      <td>0</td>\n",
              "      <td>0</td>\n",
              "      <td>1</td>\n",
              "      <td>32</td>\n",
              "      <td>0</td>\n",
              "      <td>0</td>\n",
              "      <td>1</td>\n",
              "      <td>0</td>\n",
              "      <td>0</td>\n",
              "      <td>0</td>\n",
              "    </tr>\n",
              "    <tr>\n",
              "      <th>...</th>\n",
              "      <td>...</td>\n",
              "      <td>...</td>\n",
              "      <td>...</td>\n",
              "      <td>...</td>\n",
              "      <td>...</td>\n",
              "      <td>...</td>\n",
              "      <td>...</td>\n",
              "      <td>...</td>\n",
              "      <td>...</td>\n",
              "      <td>...</td>\n",
              "      <td>...</td>\n",
              "      <td>...</td>\n",
              "      <td>...</td>\n",
              "      <td>...</td>\n",
              "      <td>...</td>\n",
              "      <td>...</td>\n",
              "    </tr>\n",
              "    <tr>\n",
              "      <th>1333</th>\n",
              "      <td>0</td>\n",
              "      <td>1</td>\n",
              "      <td>0</td>\n",
              "      <td>0</td>\n",
              "      <td>1</td>\n",
              "      <td>0</td>\n",
              "      <td>0</td>\n",
              "      <td>0</td>\n",
              "      <td>0</td>\n",
              "      <td>50</td>\n",
              "      <td>0</td>\n",
              "      <td>0</td>\n",
              "      <td>1</td>\n",
              "      <td>0</td>\n",
              "      <td>0</td>\n",
              "      <td>1</td>\n",
              "    </tr>\n",
              "    <tr>\n",
              "      <th>1334</th>\n",
              "      <td>0</td>\n",
              "      <td>0</td>\n",
              "      <td>0</td>\n",
              "      <td>0</td>\n",
              "      <td>0</td>\n",
              "      <td>0</td>\n",
              "      <td>0</td>\n",
              "      <td>1</td>\n",
              "      <td>0</td>\n",
              "      <td>18</td>\n",
              "      <td>0</td>\n",
              "      <td>0</td>\n",
              "      <td>0</td>\n",
              "      <td>0</td>\n",
              "      <td>0</td>\n",
              "      <td>1</td>\n",
              "    </tr>\n",
              "    <tr>\n",
              "      <th>1335</th>\n",
              "      <td>0</td>\n",
              "      <td>0</td>\n",
              "      <td>1</td>\n",
              "      <td>0</td>\n",
              "      <td>0</td>\n",
              "      <td>0</td>\n",
              "      <td>0</td>\n",
              "      <td>0</td>\n",
              "      <td>0</td>\n",
              "      <td>18</td>\n",
              "      <td>0</td>\n",
              "      <td>0</td>\n",
              "      <td>0</td>\n",
              "      <td>0</td>\n",
              "      <td>0</td>\n",
              "      <td>1</td>\n",
              "    </tr>\n",
              "    <tr>\n",
              "      <th>1336</th>\n",
              "      <td>0</td>\n",
              "      <td>0</td>\n",
              "      <td>0</td>\n",
              "      <td>1</td>\n",
              "      <td>0</td>\n",
              "      <td>0</td>\n",
              "      <td>0</td>\n",
              "      <td>0</td>\n",
              "      <td>1</td>\n",
              "      <td>21</td>\n",
              "      <td>0</td>\n",
              "      <td>0</td>\n",
              "      <td>0</td>\n",
              "      <td>0</td>\n",
              "      <td>0</td>\n",
              "      <td>0</td>\n",
              "    </tr>\n",
              "    <tr>\n",
              "      <th>1337</th>\n",
              "      <td>0</td>\n",
              "      <td>0</td>\n",
              "      <td>0</td>\n",
              "      <td>0</td>\n",
              "      <td>0</td>\n",
              "      <td>0</td>\n",
              "      <td>0</td>\n",
              "      <td>0</td>\n",
              "      <td>1</td>\n",
              "      <td>61</td>\n",
              "      <td>0</td>\n",
              "      <td>0</td>\n",
              "      <td>1</td>\n",
              "      <td>0</td>\n",
              "      <td>1</td>\n",
              "      <td>0</td>\n",
              "    </tr>\n",
              "  </tbody>\n",
              "</table>\n",
              "<p>1337 rows × 16 columns</p>\n",
              "</div>\n",
              "      <button class=\"colab-df-convert\" onclick=\"convertToInteractive('df-40b36a9f-73bd-4908-a426-2a9a6142c246')\"\n",
              "              title=\"Convert this dataframe to an interactive table.\"\n",
              "              style=\"display:none;\">\n",
              "        \n",
              "  <svg xmlns=\"http://www.w3.org/2000/svg\" height=\"24px\"viewBox=\"0 0 24 24\"\n",
              "       width=\"24px\">\n",
              "    <path d=\"M0 0h24v24H0V0z\" fill=\"none\"/>\n",
              "    <path d=\"M18.56 5.44l.94 2.06.94-2.06 2.06-.94-2.06-.94-.94-2.06-.94 2.06-2.06.94zm-11 1L8.5 8.5l.94-2.06 2.06-.94-2.06-.94L8.5 2.5l-.94 2.06-2.06.94zm10 10l.94 2.06.94-2.06 2.06-.94-2.06-.94-.94-2.06-.94 2.06-2.06.94z\"/><path d=\"M17.41 7.96l-1.37-1.37c-.4-.4-.92-.59-1.43-.59-.52 0-1.04.2-1.43.59L10.3 9.45l-7.72 7.72c-.78.78-.78 2.05 0 2.83L4 21.41c.39.39.9.59 1.41.59.51 0 1.02-.2 1.41-.59l7.78-7.78 2.81-2.81c.8-.78.8-2.07 0-2.86zM5.41 20L4 18.59l7.72-7.72 1.47 1.35L5.41 20z\"/>\n",
              "  </svg>\n",
              "      </button>\n",
              "      \n",
              "  <style>\n",
              "    .colab-df-container {\n",
              "      display:flex;\n",
              "      flex-wrap:wrap;\n",
              "      gap: 12px;\n",
              "    }\n",
              "\n",
              "    .colab-df-convert {\n",
              "      background-color: #E8F0FE;\n",
              "      border: none;\n",
              "      border-radius: 50%;\n",
              "      cursor: pointer;\n",
              "      display: none;\n",
              "      fill: #1967D2;\n",
              "      height: 32px;\n",
              "      padding: 0 0 0 0;\n",
              "      width: 32px;\n",
              "    }\n",
              "\n",
              "    .colab-df-convert:hover {\n",
              "      background-color: #E2EBFA;\n",
              "      box-shadow: 0px 1px 2px rgba(60, 64, 67, 0.3), 0px 1px 3px 1px rgba(60, 64, 67, 0.15);\n",
              "      fill: #174EA6;\n",
              "    }\n",
              "\n",
              "    [theme=dark] .colab-df-convert {\n",
              "      background-color: #3B4455;\n",
              "      fill: #D2E3FC;\n",
              "    }\n",
              "\n",
              "    [theme=dark] .colab-df-convert:hover {\n",
              "      background-color: #434B5C;\n",
              "      box-shadow: 0px 1px 3px 1px rgba(0, 0, 0, 0.15);\n",
              "      filter: drop-shadow(0px 1px 2px rgba(0, 0, 0, 0.3));\n",
              "      fill: #FFFFFF;\n",
              "    }\n",
              "  </style>\n",
              "\n",
              "      <script>\n",
              "        const buttonEl =\n",
              "          document.querySelector('#df-40b36a9f-73bd-4908-a426-2a9a6142c246 button.colab-df-convert');\n",
              "        buttonEl.style.display =\n",
              "          google.colab.kernel.accessAllowed ? 'block' : 'none';\n",
              "\n",
              "        async function convertToInteractive(key) {\n",
              "          const element = document.querySelector('#df-40b36a9f-73bd-4908-a426-2a9a6142c246');\n",
              "          const dataTable =\n",
              "            await google.colab.kernel.invokeFunction('convertToInteractive',\n",
              "                                                     [key], {});\n",
              "          if (!dataTable) return;\n",
              "\n",
              "          const docLinkHtml = 'Like what you see? Visit the ' +\n",
              "            '<a target=\"_blank\" href=https://colab.research.google.com/notebooks/data_table.ipynb>data table notebook</a>'\n",
              "            + ' to learn more about interactive tables.';\n",
              "          element.innerHTML = '';\n",
              "          dataTable['output_type'] = 'display_data';\n",
              "          await google.colab.output.renderOutput(dataTable, element);\n",
              "          const docLink = document.createElement('div');\n",
              "          docLink.innerHTML = docLinkHtml;\n",
              "          element.appendChild(docLink);\n",
              "        }\n",
              "      </script>\n",
              "    </div>\n",
              "  </div>\n",
              "  "
            ],
            "text/plain": [
              "      Underweight_bmi  children_3  ...  smoker_  Obese_bmi\n",
              "0                   0           0  ...        1          0\n",
              "1                   0           0  ...        0          1\n",
              "2                   0           1  ...        0          1\n",
              "3                   0           0  ...        0          0\n",
              "4                   0           0  ...        0          0\n",
              "...               ...         ...  ...      ...        ...\n",
              "1333                0           1  ...        0          1\n",
              "1334                0           0  ...        0          1\n",
              "1335                0           0  ...        0          1\n",
              "1336                0           0  ...        0          0\n",
              "1337                0           0  ...        1          0\n",
              "\n",
              "[1337 rows x 16 columns]"
            ]
          },
          "metadata": {},
          "execution_count": 141
        }
      ]
    },
    {
      "cell_type": "code",
      "metadata": {
        "id": "9ssrynOa7yEM"
      },
      "source": [
        "#splitting the dataset into the Training test and Test set\n",
        "X_train, X_test, y_train, y_test =  train_test_split(X, y, test_size=0.2, random_state = 0)"
      ],
      "execution_count": null,
      "outputs": []
    },
    {
      "cell_type": "code",
      "metadata": {
        "id": "Zd7xQpUt8pf3",
        "colab": {
          "base_uri": "https://localhost:8080/"
        },
        "outputId": "237b58b2-5345-495f-91a4-59da4433019e"
      },
      "source": [
        "X_train[0:20]"
      ],
      "execution_count": null,
      "outputs": [
        {
          "output_type": "execute_result",
          "data": {
            "text/plain": [
              "array([[ 0,  0,  0,  0,  0,  0,  0,  1,  0, 43,  1,  0,  0,  1,  1,  0],\n",
              "       [ 0,  0,  1,  0,  1,  0,  0,  0,  0, 18,  0,  0,  0,  0,  0,  1],\n",
              "       [ 0,  0,  0,  0,  0,  0,  0,  1,  0, 23,  1,  0,  0,  0,  1,  1],\n",
              "       [ 0,  0,  0,  0,  0,  0,  0,  0,  1, 54,  0,  1,  1,  0,  0,  0],\n",
              "       [ 0,  0,  0,  0,  0,  0,  0,  0,  1, 58,  0,  0,  1,  0,  0,  0],\n",
              "       [ 0,  0,  0,  0,  0,  0,  0,  0,  1, 25,  1,  0,  1,  0,  0,  0],\n",
              "       [ 0,  0,  1,  0,  1,  0,  0,  0,  0, 36,  0,  1,  0,  0,  1,  1],\n",
              "       [ 0,  0,  0,  0,  0,  0,  0,  0,  0, 40,  1,  0,  1,  0,  1,  1],\n",
              "       [ 0,  0,  0,  0,  1,  0,  0,  0,  0, 36,  0,  1,  1,  0,  0,  1],\n",
              "       [ 0,  0,  0,  0,  1,  0,  0,  0,  0, 34,  0,  0,  1,  0,  0,  1],\n",
              "       [ 0,  0,  1,  0,  0,  0,  0,  0,  1, 26,  0,  1,  0,  0,  0,  0],\n",
              "       [ 0,  0,  1,  0,  0,  0,  0,  0,  1, 30,  0,  1,  0,  0,  1,  0],\n",
              "       [ 0,  0,  0,  0,  0,  0,  0,  1,  0, 57,  1,  0,  0,  0,  0,  1],\n",
              "       [ 0,  0,  1,  0,  1,  0,  0,  0,  0, 64,  0,  1,  0,  0,  0,  1],\n",
              "       [ 0,  0,  0,  1,  0,  0,  0,  0,  0, 45,  0,  0,  0,  0,  0,  1],\n",
              "       [ 0,  0,  0,  0,  1,  0,  0,  0,  1, 55,  0,  0,  1,  0,  0,  0],\n",
              "       [ 0,  0,  0,  0,  1,  0,  0,  1,  0, 38,  0,  1,  0,  0,  0,  1],\n",
              "       [ 0,  1,  0,  1,  1,  0,  0,  0,  0, 23,  0,  0,  0,  0,  0,  1],\n",
              "       [ 0,  0,  1,  0,  1,  0,  0,  0,  0, 36,  1,  0,  0,  0,  0,  1],\n",
              "       [ 0,  0,  0,  1,  1,  0,  0,  0,  0, 43,  1,  0,  0,  0,  0,  1]])"
            ]
          },
          "metadata": {},
          "execution_count": 143
        }
      ]
    },
    {
      "cell_type": "code",
      "metadata": {
        "id": "HzsRXVdV8wdC"
      },
      "source": [
        "#transforming data\n",
        "scaler = MinMaxScaler()\n",
        "X_train = scaler.fit_transform(X_train)\n",
        "X_test = scaler.transform(X_test)"
      ],
      "execution_count": null,
      "outputs": []
    },
    {
      "cell_type": "code",
      "metadata": {
        "id": "k2aw7rxW9l8d",
        "colab": {
          "base_uri": "https://localhost:8080/"
        },
        "outputId": "5edae8e1-ed47-454f-b351-989fe43e4031"
      },
      "source": [
        "X_train[0:10]"
      ],
      "execution_count": null,
      "outputs": [
        {
          "output_type": "execute_result",
          "data": {
            "text/plain": [
              "array([[0.        , 0.        , 0.        , 0.        , 0.        ,\n",
              "        0.        , 0.        , 1.        , 0.        , 0.54347826,\n",
              "        1.        , 0.        , 0.        , 1.        , 1.        ,\n",
              "        0.        ],\n",
              "       [0.        , 0.        , 1.        , 0.        , 1.        ,\n",
              "        0.        , 0.        , 0.        , 0.        , 0.        ,\n",
              "        0.        , 0.        , 0.        , 0.        , 0.        ,\n",
              "        1.        ],\n",
              "       [0.        , 0.        , 0.        , 0.        , 0.        ,\n",
              "        0.        , 0.        , 1.        , 0.        , 0.10869565,\n",
              "        1.        , 0.        , 0.        , 0.        , 1.        ,\n",
              "        1.        ],\n",
              "       [0.        , 0.        , 0.        , 0.        , 0.        ,\n",
              "        0.        , 0.        , 0.        , 1.        , 0.7826087 ,\n",
              "        0.        , 1.        , 1.        , 0.        , 0.        ,\n",
              "        0.        ],\n",
              "       [0.        , 0.        , 0.        , 0.        , 0.        ,\n",
              "        0.        , 0.        , 0.        , 1.        , 0.86956522,\n",
              "        0.        , 0.        , 1.        , 0.        , 0.        ,\n",
              "        0.        ],\n",
              "       [0.        , 0.        , 0.        , 0.        , 0.        ,\n",
              "        0.        , 0.        , 0.        , 1.        , 0.15217391,\n",
              "        1.        , 0.        , 1.        , 0.        , 0.        ,\n",
              "        0.        ],\n",
              "       [0.        , 0.        , 1.        , 0.        , 1.        ,\n",
              "        0.        , 0.        , 0.        , 0.        , 0.39130435,\n",
              "        0.        , 1.        , 0.        , 0.        , 1.        ,\n",
              "        1.        ],\n",
              "       [0.        , 0.        , 0.        , 0.        , 0.        ,\n",
              "        0.        , 0.        , 0.        , 0.        , 0.47826087,\n",
              "        1.        , 0.        , 1.        , 0.        , 1.        ,\n",
              "        1.        ],\n",
              "       [0.        , 0.        , 0.        , 0.        , 1.        ,\n",
              "        0.        , 0.        , 0.        , 0.        , 0.39130435,\n",
              "        0.        , 1.        , 1.        , 0.        , 0.        ,\n",
              "        1.        ],\n",
              "       [0.        , 0.        , 0.        , 0.        , 1.        ,\n",
              "        0.        , 0.        , 0.        , 0.        , 0.34782609,\n",
              "        0.        , 0.        , 1.        , 0.        , 0.        ,\n",
              "        1.        ]])"
            ]
          },
          "metadata": {},
          "execution_count": 145
        }
      ]
    },
    {
      "cell_type": "code",
      "metadata": {
        "id": "F5tcPplD_i6a",
        "colab": {
          "base_uri": "https://localhost:8080/"
        },
        "outputId": "78231c6d-29bb-44b1-bc67-803eaa2aef1c"
      },
      "source": [
        "np.any(np.isnan(insurance_df))"
      ],
      "execution_count": null,
      "outputs": [
        {
          "output_type": "execute_result",
          "data": {
            "text/plain": [
              "False"
            ]
          },
          "metadata": {},
          "execution_count": 146
        }
      ]
    },
    {
      "cell_type": "code",
      "metadata": {
        "id": "YI4qzQ6W_SIA",
        "colab": {
          "base_uri": "https://localhost:8080/"
        },
        "outputId": "484469d8-56b5-4e73-f477-09984cfeca1b"
      },
      "source": [
        "np.all(np.isfinite(insurance_df))"
      ],
      "execution_count": null,
      "outputs": [
        {
          "output_type": "execute_result",
          "data": {
            "text/plain": [
              "True"
            ]
          },
          "metadata": {},
          "execution_count": 147
        }
      ]
    },
    {
      "cell_type": "markdown",
      "metadata": {
        "id": "1e63XDTdHN85"
      },
      "source": [
        "------------------------\n",
        "##**Linear Regression**\n",
        "-----------------------"
      ]
    },
    {
      "cell_type": "code",
      "metadata": {
        "id": "j7UPgIg5-ZxU",
        "colab": {
          "base_uri": "https://localhost:8080/"
        },
        "outputId": "64f66697-16f3-41d1-f6b0-7403cc271e02"
      },
      "source": [
        "# Fitting Multiple Linear Regression to the Training set\n",
        "regressor = LinearRegression()\n",
        "regressor.fit(X_train, y_train)"
      ],
      "execution_count": null,
      "outputs": [
        {
          "output_type": "execute_result",
          "data": {
            "text/plain": [
              "LinearRegression()"
            ]
          },
          "metadata": {},
          "execution_count": 148
        }
      ]
    },
    {
      "cell_type": "code",
      "metadata": {
        "id": "EyXtPgevBzUD",
        "colab": {
          "base_uri": "https://localhost:8080/"
        },
        "outputId": "c84b819b-5ef1-4402-e136-633128a53b83"
      },
      "source": [
        "regressor.intercept_"
      ],
      "execution_count": null,
      "outputs": [
        {
          "output_type": "execute_result",
          "data": {
            "text/plain": [
              "-3375972203348.2427"
            ]
          },
          "metadata": {},
          "execution_count": 149
        }
      ]
    },
    {
      "cell_type": "code",
      "metadata": {
        "id": "vXz7THKVFjAa",
        "colab": {
          "base_uri": "https://localhost:8080/"
        },
        "outputId": "95e20531-e54c-426b-8cd4-ba863e4ac734"
      },
      "source": [
        "regressor.coef_"
      ],
      "execution_count": null,
      "outputs": [
        {
          "output_type": "execute_result",
          "data": {
            "text/plain": [
              "array([ 7.94137288e+12,  8.98437500e-02, -4.56540067e+12, -4.56540067e+12,\n",
              "       -2.68554688e-02,  2.00683594e-01,  2.30834961e-01, -4.56540067e+12,\n",
              "        7.94137288e+12,  6.86035156e-01,  1.26708984e-01,  7.16552734e-02,\n",
              "       -4.56540067e+12,  7.94137288e+12,  6.74194336e-01,  7.94137288e+12])"
            ]
          },
          "metadata": {},
          "execution_count": 150
        }
      ]
    },
    {
      "cell_type": "code",
      "metadata": {
        "id": "UbM0srnGF1wR"
      },
      "source": [
        "y_pred_train = regressor.predict(X_train)"
      ],
      "execution_count": null,
      "outputs": []
    },
    {
      "cell_type": "code",
      "metadata": {
        "id": "aBIsWIEHGE0k",
        "colab": {
          "base_uri": "https://localhost:8080/"
        },
        "outputId": "14477bac-37c8-46de-9fa0-a49638783cea"
      },
      "source": [
        "y_train"
      ],
      "execution_count": null,
      "outputs": [
        {
          "output_type": "execute_result",
          "data": {
            "text/plain": [
              "array([4.29662242, 3.05593995, 4.5855919 , ..., 3.60832489, 3.21654327,\n",
              "       4.05093551])"
            ]
          },
          "metadata": {},
          "execution_count": 152
        }
      ]
    },
    {
      "cell_type": "code",
      "metadata": {
        "id": "OHQSd2wWGQiI"
      },
      "source": [
        "# Predicting the Test set results\n",
        "y_pred = regressor.predict(X_test)"
      ],
      "execution_count": null,
      "outputs": []
    },
    {
      "cell_type": "code",
      "metadata": {
        "id": "7ZIqsT3RGbvk",
        "colab": {
          "base_uri": "https://localhost:8080/"
        },
        "outputId": "c872c91f-2769-481d-bf9d-6c07ad712c90"
      },
      "source": [
        "#Predicted expenses on the test data\n",
        "y_pred"
      ],
      "execution_count": null,
      "outputs": [
        {
          "output_type": "execute_result",
          "data": {
            "text/plain": [
              "array([3.47216797, 3.93164062, 4.01416016, 4.13330078, 3.76123047,\n",
              "       3.36083984, 3.46240234, 3.36816406, 3.52539062, 4.08056641,\n",
              "       3.91943359, 4.19287109, 4.15136719, 3.94189453, 3.76123047,\n",
              "       3.59033203, 3.70751953, 3.67089844, 3.68994141, 4.16943359,\n",
              "       3.47216797, 4.11865234, 3.45458984, 3.58740234, 3.50439453,\n",
              "       3.76074219, 3.44189453, 4.12939453, 3.62109375, 4.25048828,\n",
              "       3.85693359, 4.73779297, 3.91992188, 3.99121094, 4.18554688,\n",
              "       4.34423828, 3.98974609, 4.33398438, 3.87451172, 3.49609375,\n",
              "       4.18457031, 3.56396484, 3.70849609, 4.85400391, 4.14599609,\n",
              "       3.90673828, 3.99414062, 3.89013672, 4.02978516, 3.84912109,\n",
              "       4.66357422, 3.64111328, 4.58642578, 4.41455078, 4.06884766,\n",
              "       3.56884766, 3.62158203, 3.88867188, 3.95166016, 4.70458984,\n",
              "       4.02490234, 4.09570312, 3.67724609, 4.17041016, 3.67138672,\n",
              "       3.64794922, 3.39501953, 4.41455078, 3.55810547, 4.01513672,\n",
              "       4.62255859, 3.67431641, 3.78076172, 4.14306641, 4.02392578,\n",
              "       4.08837891, 3.77148438, 3.95947266, 3.50244141, 3.72119141,\n",
              "       4.02880859, 3.56689453, 3.66259766, 3.91357422, 4.59912109,\n",
              "       4.43945312, 4.70654297, 3.57568359, 4.07666016, 4.29296875,\n",
              "       3.80615234, 3.77978516, 4.21240234, 3.95703125, 3.71923828,\n",
              "       3.78759766, 3.93994141, 3.47998047, 3.80517578, 4.00634766,\n",
              "       4.06103516, 4.76513672, 3.74853516, 4.38720703, 3.97021484,\n",
              "       3.79736328, 3.87109375, 3.63330078, 4.07714844, 4.74023438,\n",
              "       4.21435547, 3.75048828, 3.95800781, 4.25976562, 3.43505859,\n",
              "       3.73095703, 3.80419922, 3.87158203, 4.20458984, 3.88330078,\n",
              "       4.58154297, 3.92626953, 4.04345703, 3.671875  , 3.88037109,\n",
              "       3.93554688, 4.64013672, 4.57373047, 4.74023438, 4.00732422,\n",
              "       4.15478516, 3.51611328, 3.71630859, 3.54394531, 3.58886719,\n",
              "       4.35253906, 4.39111328, 3.83544922, 4.65380859, 3.89306641,\n",
              "       4.15869141, 4.03271484, 3.48583984, 4.01757812, 3.72167969,\n",
              "       3.86865234, 3.44482422, 3.59912109, 4.16259766, 4.15576172,\n",
              "       3.96240234, 4.25244141, 3.40869141, 3.84814453, 3.67724609,\n",
              "       4.01416016, 3.82958984, 3.47167969, 4.67236328, 4.00634766,\n",
              "       3.83935547, 3.77294922, 4.06542969, 3.88623047, 3.68994141,\n",
              "       3.80078125, 4.06933594, 3.41259766, 3.70068359, 3.66650391,\n",
              "       3.71728516, 4.17236328, 3.98388672, 3.53466797, 3.66357422,\n",
              "       3.77978516, 4.11767578, 3.75537109, 4.81005859, 3.77294922,\n",
              "       3.88525391, 3.82714844, 4.03857422, 3.45507812, 3.75927734,\n",
              "       3.77978516, 4.16064453, 3.53759766, 4.52587891, 4.09033203,\n",
              "       4.63183594, 3.67333984, 3.75244141, 4.47998047, 4.203125  ,\n",
              "       3.48388672, 3.84521484, 3.82080078, 3.47216797, 4.82617188,\n",
              "       4.11572266, 4.02294922, 4.16259766, 4.35205078, 4.47314453,\n",
              "       3.65673828, 3.68994141, 3.90869141, 3.84912109, 4.09033203,\n",
              "       3.94335938, 4.77197266, 4.32763672, 3.54101562, 3.80810547,\n",
              "       3.57861328, 3.79345703, 3.71630859, 4.12841797, 4.24951172,\n",
              "       3.96728516, 3.82470703, 3.85693359, 4.01757812, 3.92822266,\n",
              "       4.14208984, 4.16552734, 4.01806641, 3.97509766, 3.50439453,\n",
              "       3.75634766, 4.80419922, 3.94287109, 4.80126953, 4.21191406,\n",
              "       3.67138672, 4.08447266, 4.24414062, 3.48388672, 4.67822266,\n",
              "       3.43603516, 3.8984375 , 3.93603516, 4.18017578, 3.60986328,\n",
              "       4.04394531, 4.10302734, 3.62548828, 3.79345703, 3.81494141,\n",
              "       3.44335938, 4.93798828, 3.72802734, 4.06835938, 3.83154297,\n",
              "       3.39453125, 4.37646484, 3.51611328, 3.74707031, 3.59130859,\n",
              "       3.85107422, 4.26757812, 4.81103516, 3.61083984, 3.82617188,\n",
              "       3.52685547, 4.69482422, 4.26708984])"
            ]
          },
          "metadata": {},
          "execution_count": 154
        }
      ]
    },
    {
      "cell_type": "code",
      "metadata": {
        "id": "n0ScJWrGGkJN",
        "colab": {
          "base_uri": "https://localhost:8080/"
        },
        "outputId": "a836b85c-1f3a-4cdf-9578-550f6a9ab641"
      },
      "source": [
        "# Actual expenses on test data\n",
        "y_test"
      ],
      "execution_count": null,
      "outputs": [
        {
          "output_type": "execute_result",
          "data": {
            "text/plain": [
              "array([3.21324142, 3.93184876, 3.96802226, 4.51252884, 3.98426846,\n",
              "       3.42828871, 3.34206523, 3.09397121, 3.43310228, 4.08763379,\n",
              "       3.91806286, 4.23155471, 4.14533503, 3.91482955, 3.7381818 ,\n",
              "       3.38704439, 3.72163093, 3.54289386, 3.8222034 , 4.16710072,\n",
              "       3.21010172, 4.1213855 , 3.09909336, 3.42214153, 3.22391887,\n",
              "       3.66909456, 3.57201494, 4.06269101, 3.57479727, 4.57362968,\n",
              "       3.9063178 , 4.67635418, 4.0243662 , 4.31450512, 4.16351588,\n",
              "       4.56324703, 3.92153874, 4.70922381, 3.92572813, 3.27427103,\n",
              "       4.52473122, 3.45744587, 3.65936372, 4.67666152, 4.55810205,\n",
              "       3.90986506, 4.29555347, 3.88551218, 3.99476002, 3.85572263,\n",
              "       4.37962056, 3.61674011, 4.3723277 , 4.61206753, 4.38430573,\n",
              "       3.48725295, 3.50127978, 3.94582346, 3.96099133, 4.6599354 ,\n",
              "       4.09605274, 4.15483342, 3.62773342, 4.44624645, 3.59589286,\n",
              "       3.51033586, 3.23846764, 4.58823091, 3.50249677, 3.9118349 ,\n",
              "       4.62542708, 3.67391807, 3.66963202, 4.14263877, 4.11435106,\n",
              "       4.12113585, 3.85413047, 3.88825983, 3.27417402, 3.72078011,\n",
              "       4.06663821, 3.50699452, 3.66005017, 3.87163422, 4.61314618,\n",
              "       4.27812456, 4.62637825, 3.43129459, 4.09109796, 4.5662898 ,\n",
              "       3.80170137, 3.85903136, 4.16003732, 3.93022341, 3.655026  ,\n",
              "       3.71168493, 4.40919876, 3.32306844, 3.72651531, 4.02540378,\n",
              "       4.10486252, 4.44872687, 3.63843534, 4.57683158, 3.93203468,\n",
              "       3.71976454, 3.87610405, 3.5510741 , 4.07717125, 4.72091002,\n",
              "       4.16060897, 3.63003816, 3.96611826, 4.20723839, 3.23248787,\n",
              "       3.73790872, 3.7829833 , 3.9265724 , 4.56715122, 4.45449012,\n",
              "       4.62453497, 3.86074037, 4.40683149, 3.55364034, 3.88235318,\n",
              "       4.039784  , 4.36924017, 4.32425261, 4.68280694, 4.0825872 ,\n",
              "       4.45160071, 3.23692755, 3.71833475, 4.27505093, 3.53694459,\n",
              "       4.55012607, 4.29038057, 3.86481059, 4.36632563, 3.99402973,\n",
              "       4.03087769, 3.99608943, 4.07496447, 4.01849537, 3.68973052,\n",
              "       3.91790024, 3.06047119, 4.15914804, 4.08883359, 4.46518172,\n",
              "       3.99073256, 4.59782414, 3.09827676, 3.78241314, 4.3100685 ,\n",
              "       4.36258745, 3.83230832, 3.23538703, 4.38979845, 4.00496632,\n",
              "       3.91657396, 3.7354991 , 4.46124544, 3.9352704 , 3.56340395,\n",
              "       4.23371756, 4.14127759, 3.3257906 , 3.64750131, 3.75537399,\n",
              "       3.60838802, 4.52254269, 3.91964492, 3.29818257, 3.62948503,\n",
              "       3.65366202, 4.04873926, 3.78657327, 4.47979032, 3.85870499,\n",
              "       3.80320234, 3.81292939, 4.05525062, 3.29331393, 4.43736841,\n",
              "       3.77614743, 4.14363362, 3.41460237, 4.33188221, 4.42270636,\n",
              "       4.61381181, 3.60009907, 3.77595396, 4.32682069, 4.53747706,\n",
              "       3.29511608, 3.80661473, 3.81635732, 3.21214231, 4.67581389,\n",
              "       4.06116625, 4.04193364, 4.08879607, 4.28329987, 4.60066475,\n",
              "       3.53279513, 3.73703751, 3.83733334, 3.81956762, 4.41706744,\n",
              "       3.95089669, 4.6873106 , 4.6117679 , 4.03326046, 3.79811452,\n",
              "       3.39766371, 3.82909397, 3.72868404, 4.14616805, 4.64837367,\n",
              "       4.43689444, 3.90235541, 3.84798702, 3.98786862, 3.88802496,\n",
              "       4.15261058, 4.08868561, 4.07324752, 3.94276431, 3.3299366 ,\n",
              "       3.70167762, 4.67107338, 3.90434437, 4.68993232, 4.18636577,\n",
              "       3.67389783, 4.40369228, 4.53471193, 3.43284748, 4.64544831,\n",
              "       3.24166351, 3.93588698, 3.86757178, 4.10011299, 3.62170584,\n",
              "       3.99843633, 4.03535488, 4.38128985, 3.82921304, 3.79136217,\n",
              "       3.29438024, 4.67490989, 4.28363383, 4.38939806, 3.81657733,\n",
              "       3.23161484, 4.28695022, 3.23561681, 3.68824002, 3.5516805 ,\n",
              "       3.93476904, 4.28668927, 4.66001322, 3.51980044, 3.82377995,\n",
              "       3.36248247, 4.40453097, 4.17666299])"
            ]
          },
          "metadata": {},
          "execution_count": 155
        }
      ]
    },
    {
      "cell_type": "code",
      "metadata": {
        "id": "9VKTJ4eNGvRN",
        "colab": {
          "base_uri": "https://localhost:8080/"
        },
        "outputId": "227b7e4b-3d3b-4d84-9033-6c676493304e"
      },
      "source": [
        "mean_squared_error(y_test, y_pred)"
      ],
      "execution_count": null,
      "outputs": [
        {
          "output_type": "execute_result",
          "data": {
            "text/plain": [
              "0.03927935663086928"
            ]
          },
          "metadata": {},
          "execution_count": 156
        }
      ]
    },
    {
      "cell_type": "code",
      "metadata": {
        "id": "D0Nt0UQdGyuZ",
        "colab": {
          "base_uri": "https://localhost:8080/"
        },
        "outputId": "0a9fee6e-5c33-46e5-cbb4-c6d45e5ec99c"
      },
      "source": [
        "# Train performance\n",
        "math.sqrt(mean_squared_error(y_train, y_pred_train))"
      ],
      "execution_count": null,
      "outputs": [
        {
          "output_type": "execute_result",
          "data": {
            "text/plain": [
              "0.1898666851951002"
            ]
          },
          "metadata": {},
          "execution_count": 157
        }
      ]
    },
    {
      "cell_type": "code",
      "metadata": {
        "id": "5_rZSW4CG4QH",
        "colab": {
          "base_uri": "https://localhost:8080/"
        },
        "outputId": "b4bfeba2-12d6-43e6-b6a2-b858a638f300"
      },
      "source": [
        "# Test performance\n",
        "math.sqrt(mean_squared_error(y_test, y_pred))"
      ],
      "execution_count": null,
      "outputs": [
        {
          "output_type": "execute_result",
          "data": {
            "text/plain": [
              "0.19819020316571978"
            ]
          },
          "metadata": {},
          "execution_count": 158
        }
      ]
    },
    {
      "cell_type": "code",
      "metadata": {
        "id": "t0lvLU9TG59b",
        "colab": {
          "base_uri": "https://localhost:8080/"
        },
        "outputId": "552857cc-10b3-45b7-fd1d-0c510da2c55e"
      },
      "source": [
        "r2_score(y_train, y_pred_train)"
      ],
      "execution_count": null,
      "outputs": [
        {
          "output_type": "execute_result",
          "data": {
            "text/plain": [
              "0.7694514491494031"
            ]
          },
          "metadata": {},
          "execution_count": 159
        }
      ]
    },
    {
      "cell_type": "code",
      "metadata": {
        "id": "1ablABS_HA8q",
        "colab": {
          "base_uri": "https://localhost:8080/"
        },
        "outputId": "a2fb5439-722f-4ec5-e7b1-be24f5753086"
      },
      "source": [
        "r2_score(y_test, y_pred)"
      ],
      "execution_count": null,
      "outputs": [
        {
          "output_type": "execute_result",
          "data": {
            "text/plain": [
              "0.7684550911835233"
            ]
          },
          "metadata": {},
          "execution_count": 160
        }
      ]
    },
    {
      "cell_type": "code",
      "metadata": {
        "id": "Yq6jtnHPH1N7"
      },
      "source": [
        "#Multicollinearity\n",
        "from statsmodels.stats.outliers_influence import variance_inflation_factor\n",
        "def calc_vif(X):\n",
        "\n",
        "    # Calculating VIF\n",
        "    vif = pd.DataFrame()\n",
        "    vif[\"variables\"] = X.columns\n",
        "    vif[\"VIF\"] = [variance_inflation_factor(X.values, i) for i in range(X.shape[1])]\n",
        "\n",
        "    return(vif)"
      ],
      "execution_count": null,
      "outputs": []
    },
    {
      "cell_type": "code",
      "metadata": {
        "id": "T-S-GVedIB85",
        "colab": {
          "base_uri": "https://localhost:8080/",
          "height": 617
        },
        "outputId": "2ad8b114-be93-4c1c-d095-cb9258d28a58"
      },
      "source": [
        "calc_vif(insurance_df[[i for i in insurance_df.describe().columns]])"
      ],
      "execution_count": null,
      "outputs": [
        {
          "output_type": "stream",
          "name": "stderr",
          "text": [
            "/usr/local/lib/python3.7/dist-packages/statsmodels/stats/outliers_influence.py:185: RuntimeWarning: divide by zero encountered in double_scalars\n",
            "  vif = 1. / (1. - r_squared_i)\n"
          ]
        },
        {
          "output_type": "execute_result",
          "data": {
            "text/html": [
              "\n",
              "  <div id=\"df-071126d5-ae0b-4cc7-af5e-7e821e90edcd\">\n",
              "    <div class=\"colab-df-container\">\n",
              "      <div>\n",
              "<style scoped>\n",
              "    .dataframe tbody tr th:only-of-type {\n",
              "        vertical-align: middle;\n",
              "    }\n",
              "\n",
              "    .dataframe tbody tr th {\n",
              "        vertical-align: top;\n",
              "    }\n",
              "\n",
              "    .dataframe thead th {\n",
              "        text-align: right;\n",
              "    }\n",
              "</style>\n",
              "<table border=\"1\" class=\"dataframe\">\n",
              "  <thead>\n",
              "    <tr style=\"text-align: right;\">\n",
              "      <th></th>\n",
              "      <th>variables</th>\n",
              "      <th>VIF</th>\n",
              "    </tr>\n",
              "  </thead>\n",
              "  <tbody>\n",
              "    <tr>\n",
              "      <th>0</th>\n",
              "      <td>age</td>\n",
              "      <td>2.240729</td>\n",
              "    </tr>\n",
              "    <tr>\n",
              "      <th>1</th>\n",
              "      <td>expenses</td>\n",
              "      <td>4.370186</td>\n",
              "    </tr>\n",
              "    <tr>\n",
              "      <th>2</th>\n",
              "      <td>male_</td>\n",
              "      <td>1.017889</td>\n",
              "    </tr>\n",
              "    <tr>\n",
              "      <th>3</th>\n",
              "      <td>Underweight_bmi</td>\n",
              "      <td>inf</td>\n",
              "    </tr>\n",
              "    <tr>\n",
              "      <th>4</th>\n",
              "      <td>Normal_bmi</td>\n",
              "      <td>inf</td>\n",
              "    </tr>\n",
              "    <tr>\n",
              "      <th>5</th>\n",
              "      <td>Overweight_bmi</td>\n",
              "      <td>inf</td>\n",
              "    </tr>\n",
              "    <tr>\n",
              "      <th>6</th>\n",
              "      <td>Obese_bmi</td>\n",
              "      <td>inf</td>\n",
              "    </tr>\n",
              "    <tr>\n",
              "      <th>7</th>\n",
              "      <td>children_1</td>\n",
              "      <td>1.210768</td>\n",
              "    </tr>\n",
              "    <tr>\n",
              "      <th>8</th>\n",
              "      <td>children_2</td>\n",
              "      <td>1.232662</td>\n",
              "    </tr>\n",
              "    <tr>\n",
              "      <th>9</th>\n",
              "      <td>children_3</td>\n",
              "      <td>1.167981</td>\n",
              "    </tr>\n",
              "    <tr>\n",
              "      <th>10</th>\n",
              "      <td>children_4</td>\n",
              "      <td>1.055974</td>\n",
              "    </tr>\n",
              "    <tr>\n",
              "      <th>11</th>\n",
              "      <td>children_5</td>\n",
              "      <td>1.042449</td>\n",
              "    </tr>\n",
              "    <tr>\n",
              "      <th>12</th>\n",
              "      <td>smoker_</td>\n",
              "      <td>3.066068</td>\n",
              "    </tr>\n",
              "    <tr>\n",
              "      <th>13</th>\n",
              "      <td>southeast_region</td>\n",
              "      <td>inf</td>\n",
              "    </tr>\n",
              "    <tr>\n",
              "      <th>14</th>\n",
              "      <td>southwest_region</td>\n",
              "      <td>inf</td>\n",
              "    </tr>\n",
              "    <tr>\n",
              "      <th>15</th>\n",
              "      <td>northwest_region</td>\n",
              "      <td>inf</td>\n",
              "    </tr>\n",
              "    <tr>\n",
              "      <th>16</th>\n",
              "      <td>northeast_region</td>\n",
              "      <td>inf</td>\n",
              "    </tr>\n",
              "  </tbody>\n",
              "</table>\n",
              "</div>\n",
              "      <button class=\"colab-df-convert\" onclick=\"convertToInteractive('df-071126d5-ae0b-4cc7-af5e-7e821e90edcd')\"\n",
              "              title=\"Convert this dataframe to an interactive table.\"\n",
              "              style=\"display:none;\">\n",
              "        \n",
              "  <svg xmlns=\"http://www.w3.org/2000/svg\" height=\"24px\"viewBox=\"0 0 24 24\"\n",
              "       width=\"24px\">\n",
              "    <path d=\"M0 0h24v24H0V0z\" fill=\"none\"/>\n",
              "    <path d=\"M18.56 5.44l.94 2.06.94-2.06 2.06-.94-2.06-.94-.94-2.06-.94 2.06-2.06.94zm-11 1L8.5 8.5l.94-2.06 2.06-.94-2.06-.94L8.5 2.5l-.94 2.06-2.06.94zm10 10l.94 2.06.94-2.06 2.06-.94-2.06-.94-.94-2.06-.94 2.06-2.06.94z\"/><path d=\"M17.41 7.96l-1.37-1.37c-.4-.4-.92-.59-1.43-.59-.52 0-1.04.2-1.43.59L10.3 9.45l-7.72 7.72c-.78.78-.78 2.05 0 2.83L4 21.41c.39.39.9.59 1.41.59.51 0 1.02-.2 1.41-.59l7.78-7.78 2.81-2.81c.8-.78.8-2.07 0-2.86zM5.41 20L4 18.59l7.72-7.72 1.47 1.35L5.41 20z\"/>\n",
              "  </svg>\n",
              "      </button>\n",
              "      \n",
              "  <style>\n",
              "    .colab-df-container {\n",
              "      display:flex;\n",
              "      flex-wrap:wrap;\n",
              "      gap: 12px;\n",
              "    }\n",
              "\n",
              "    .colab-df-convert {\n",
              "      background-color: #E8F0FE;\n",
              "      border: none;\n",
              "      border-radius: 50%;\n",
              "      cursor: pointer;\n",
              "      display: none;\n",
              "      fill: #1967D2;\n",
              "      height: 32px;\n",
              "      padding: 0 0 0 0;\n",
              "      width: 32px;\n",
              "    }\n",
              "\n",
              "    .colab-df-convert:hover {\n",
              "      background-color: #E2EBFA;\n",
              "      box-shadow: 0px 1px 2px rgba(60, 64, 67, 0.3), 0px 1px 3px 1px rgba(60, 64, 67, 0.15);\n",
              "      fill: #174EA6;\n",
              "    }\n",
              "\n",
              "    [theme=dark] .colab-df-convert {\n",
              "      background-color: #3B4455;\n",
              "      fill: #D2E3FC;\n",
              "    }\n",
              "\n",
              "    [theme=dark] .colab-df-convert:hover {\n",
              "      background-color: #434B5C;\n",
              "      box-shadow: 0px 1px 3px 1px rgba(0, 0, 0, 0.15);\n",
              "      filter: drop-shadow(0px 1px 2px rgba(0, 0, 0, 0.3));\n",
              "      fill: #FFFFFF;\n",
              "    }\n",
              "  </style>\n",
              "\n",
              "      <script>\n",
              "        const buttonEl =\n",
              "          document.querySelector('#df-071126d5-ae0b-4cc7-af5e-7e821e90edcd button.colab-df-convert');\n",
              "        buttonEl.style.display =\n",
              "          google.colab.kernel.accessAllowed ? 'block' : 'none';\n",
              "\n",
              "        async function convertToInteractive(key) {\n",
              "          const element = document.querySelector('#df-071126d5-ae0b-4cc7-af5e-7e821e90edcd');\n",
              "          const dataTable =\n",
              "            await google.colab.kernel.invokeFunction('convertToInteractive',\n",
              "                                                     [key], {});\n",
              "          if (!dataTable) return;\n",
              "\n",
              "          const docLinkHtml = 'Like what you see? Visit the ' +\n",
              "            '<a target=\"_blank\" href=https://colab.research.google.com/notebooks/data_table.ipynb>data table notebook</a>'\n",
              "            + ' to learn more about interactive tables.';\n",
              "          element.innerHTML = '';\n",
              "          dataTable['output_type'] = 'display_data';\n",
              "          await google.colab.output.renderOutput(dataTable, element);\n",
              "          const docLink = document.createElement('div');\n",
              "          docLink.innerHTML = docLinkHtml;\n",
              "          element.appendChild(docLink);\n",
              "        }\n",
              "      </script>\n",
              "    </div>\n",
              "  </div>\n",
              "  "
            ],
            "text/plain": [
              "           variables       VIF\n",
              "0                age  2.240729\n",
              "1           expenses  4.370186\n",
              "2              male_  1.017889\n",
              "3    Underweight_bmi       inf\n",
              "4         Normal_bmi       inf\n",
              "5     Overweight_bmi       inf\n",
              "6          Obese_bmi       inf\n",
              "7         children_1  1.210768\n",
              "8         children_2  1.232662\n",
              "9         children_3  1.167981\n",
              "10        children_4  1.055974\n",
              "11        children_5  1.042449\n",
              "12           smoker_  3.066068\n",
              "13  southeast_region       inf\n",
              "14  southwest_region       inf\n",
              "15  northwest_region       inf\n",
              "16  northeast_region       inf"
            ]
          },
          "metadata": {},
          "execution_count": 162
        }
      ]
    },
    {
      "cell_type": "markdown",
      "source": [
        "##Applying neural network in linear regression"
      ],
      "metadata": {
        "id": "45WggJqGoxhL"
      }
    },
    {
      "cell_type": "markdown",
      "source": [
        "1) model\n",
        "https://machinelearningmastery.com/regression-tutorial-keras-deep-learning-library-python/\n",
        "\n",
        "*******************************************************************\n",
        "2) metric\n",
        "https://machinelearningmastery.com/custom-metrics-deep-learning-keras-python/\n",
        "referance"
      ],
      "metadata": {
        "id": "oI1PjXogrT2Y"
      }
    },
    {
      "cell_type": "code",
      "source": [
        "!pip install Keras"
      ],
      "metadata": {
        "colab": {
          "base_uri": "https://localhost:8080/"
        },
        "id": "FUAwRU1xqzks",
        "outputId": "ea2e4e09-3ae4-4a11-ea59-631341eff0a9"
      },
      "execution_count": null,
      "outputs": [
        {
          "output_type": "stream",
          "name": "stdout",
          "text": [
            "Requirement already satisfied: Keras in /usr/local/lib/python3.7/dist-packages (2.7.0)\n"
          ]
        }
      ]
    },
    {
      "cell_type": "code",
      "source": [
        "from keras.models import Sequential\n",
        "from keras.layers import Dense\n",
        "from keras.wrappers.scikit_learn import KerasRegressor\n",
        "from sklearn.model_selection import cross_val_score\n",
        "from sklearn.model_selection import KFold\n",
        "from sklearn.preprocessing import StandardScaler\n",
        "from sklearn.pipeline import Pipeline"
      ],
      "metadata": {
        "id": "dXDeuIy6owfO"
      },
      "execution_count": null,
      "outputs": []
    },
    {
      "cell_type": "code",
      "source": [
        "#create the data of independent variables\n",
        "X = insurance_df[independent_variable].values\n",
        "\n",
        "#create the data of dependent variables\n",
        "Y = insurance_df[dependent_variable].values"
      ],
      "metadata": {
        "id": "3CdeDT90rKyt"
      },
      "execution_count": null,
      "outputs": []
    },
    {
      "cell_type": "code",
      "source": [
        "model = Sequential()\n",
        "model.add(Dense(20, input_dim=16, kernel_initializer='normal', activation='relu'))\n",
        "model.add(Dense(16, input_dim=16, kernel_initializer='normal', activation='relu'))\n",
        "model.add(Dense(10, input_dim=16, kernel_initializer='normal', activation='relu'))\n",
        "model.add(Dense(1, activation='linear'))"
      ],
      "metadata": {
        "id": "Vj_v41jKYlpe"
      },
      "execution_count": null,
      "outputs": []
    },
    {
      "cell_type": "code",
      "source": [
        "model.compile(loss='mean_squared_error', optimizer='adam', metrics=['mse'])\n",
        "model.summary()"
      ],
      "metadata": {
        "colab": {
          "base_uri": "https://localhost:8080/"
        },
        "id": "poq_iLPtjXuX",
        "outputId": "71623165-d770-4749-be7f-97f364083622"
      },
      "execution_count": null,
      "outputs": [
        {
          "output_type": "stream",
          "name": "stdout",
          "text": [
            "Model: \"sequential_1\"\n",
            "_________________________________________________________________\n",
            " Layer (type)                Output Shape              Param #   \n",
            "=================================================================\n",
            " dense_4 (Dense)             (None, 20)                340       \n",
            "                                                                 \n",
            " dense_5 (Dense)             (None, 16)                336       \n",
            "                                                                 \n",
            " dense_6 (Dense)             (None, 10)                170       \n",
            "                                                                 \n",
            " dense_7 (Dense)             (None, 1)                 11        \n",
            "                                                                 \n",
            "=================================================================\n",
            "Total params: 857\n",
            "Trainable params: 857\n",
            "Non-trainable params: 0\n",
            "_________________________________________________________________\n"
          ]
        }
      ]
    },
    {
      "cell_type": "code",
      "source": [
        "history = model.fit(X_train,y_train,epochs=50,batch_size=8,validation_split=0.15)"
      ],
      "metadata": {
        "id": "6OT34_ptj8ut",
        "colab": {
          "base_uri": "https://localhost:8080/"
        },
        "outputId": "8974e6f6-d842-496e-b581-f4ee6fa1de17"
      },
      "execution_count": null,
      "outputs": [
        {
          "output_type": "stream",
          "name": "stdout",
          "text": [
            "Epoch 1/50\n",
            "114/114 [==============================] - 1s 4ms/step - loss: 11.8907 - mse: 11.8907 - val_loss: 0.8386 - val_mse: 0.8386\n",
            "Epoch 2/50\n",
            "114/114 [==============================] - 0s 3ms/step - loss: 0.1943 - mse: 0.1943 - val_loss: 0.1100 - val_mse: 0.1100\n",
            "Epoch 3/50\n",
            "114/114 [==============================] - 0s 2ms/step - loss: 0.0676 - mse: 0.0676 - val_loss: 0.0537 - val_mse: 0.0537\n",
            "Epoch 4/50\n",
            "114/114 [==============================] - 0s 2ms/step - loss: 0.0417 - mse: 0.0417 - val_loss: 0.0411 - val_mse: 0.0411\n",
            "Epoch 5/50\n",
            "114/114 [==============================] - 0s 2ms/step - loss: 0.0378 - mse: 0.0378 - val_loss: 0.0385 - val_mse: 0.0385\n",
            "Epoch 6/50\n",
            "114/114 [==============================] - 0s 2ms/step - loss: 0.0373 - mse: 0.0373 - val_loss: 0.0371 - val_mse: 0.0371\n",
            "Epoch 7/50\n",
            "114/114 [==============================] - 0s 2ms/step - loss: 0.0370 - mse: 0.0370 - val_loss: 0.0370 - val_mse: 0.0370\n",
            "Epoch 8/50\n",
            "114/114 [==============================] - 0s 2ms/step - loss: 0.0368 - mse: 0.0368 - val_loss: 0.0367 - val_mse: 0.0367\n",
            "Epoch 9/50\n",
            "114/114 [==============================] - 0s 2ms/step - loss: 0.0375 - mse: 0.0375 - val_loss: 0.0367 - val_mse: 0.0367\n",
            "Epoch 10/50\n",
            "114/114 [==============================] - 0s 3ms/step - loss: 0.0366 - mse: 0.0366 - val_loss: 0.0361 - val_mse: 0.0361\n",
            "Epoch 11/50\n",
            "114/114 [==============================] - 0s 2ms/step - loss: 0.0378 - mse: 0.0378 - val_loss: 0.0434 - val_mse: 0.0434\n",
            "Epoch 12/50\n",
            "114/114 [==============================] - 0s 2ms/step - loss: 0.0362 - mse: 0.0362 - val_loss: 0.0361 - val_mse: 0.0361\n",
            "Epoch 13/50\n",
            "114/114 [==============================] - 0s 2ms/step - loss: 0.0357 - mse: 0.0357 - val_loss: 0.0351 - val_mse: 0.0351\n",
            "Epoch 14/50\n",
            "114/114 [==============================] - 0s 2ms/step - loss: 0.0352 - mse: 0.0352 - val_loss: 0.0353 - val_mse: 0.0353\n",
            "Epoch 15/50\n",
            "114/114 [==============================] - 0s 2ms/step - loss: 0.0359 - mse: 0.0359 - val_loss: 0.0323 - val_mse: 0.0323\n",
            "Epoch 16/50\n",
            "114/114 [==============================] - 0s 2ms/step - loss: 0.0345 - mse: 0.0345 - val_loss: 0.0321 - val_mse: 0.0321\n",
            "Epoch 17/50\n",
            "114/114 [==============================] - 0s 2ms/step - loss: 0.0341 - mse: 0.0341 - val_loss: 0.0321 - val_mse: 0.0321\n",
            "Epoch 18/50\n",
            "114/114 [==============================] - 0s 3ms/step - loss: 0.0338 - mse: 0.0338 - val_loss: 0.0365 - val_mse: 0.0365\n",
            "Epoch 19/50\n",
            "114/114 [==============================] - 0s 3ms/step - loss: 0.0332 - mse: 0.0332 - val_loss: 0.0323 - val_mse: 0.0323\n",
            "Epoch 20/50\n",
            "114/114 [==============================] - 0s 4ms/step - loss: 0.0325 - mse: 0.0325 - val_loss: 0.0306 - val_mse: 0.0306\n",
            "Epoch 21/50\n",
            "114/114 [==============================] - 0s 4ms/step - loss: 0.0330 - mse: 0.0330 - val_loss: 0.0299 - val_mse: 0.0299\n",
            "Epoch 22/50\n",
            "114/114 [==============================] - 0s 4ms/step - loss: 0.0318 - mse: 0.0318 - val_loss: 0.0286 - val_mse: 0.0286\n",
            "Epoch 23/50\n",
            "114/114 [==============================] - 0s 4ms/step - loss: 0.0312 - mse: 0.0312 - val_loss: 0.0294 - val_mse: 0.0294\n",
            "Epoch 24/50\n",
            "114/114 [==============================] - 0s 4ms/step - loss: 0.0317 - mse: 0.0317 - val_loss: 0.0274 - val_mse: 0.0274\n",
            "Epoch 25/50\n",
            "114/114 [==============================] - 0s 4ms/step - loss: 0.0309 - mse: 0.0309 - val_loss: 0.0280 - val_mse: 0.0280\n",
            "Epoch 26/50\n",
            "114/114 [==============================] - 0s 4ms/step - loss: 0.0312 - mse: 0.0312 - val_loss: 0.0266 - val_mse: 0.0266\n",
            "Epoch 27/50\n",
            "114/114 [==============================] - 0s 3ms/step - loss: 0.0306 - mse: 0.0306 - val_loss: 0.0325 - val_mse: 0.0325\n",
            "Epoch 28/50\n",
            "114/114 [==============================] - 1s 4ms/step - loss: 0.0314 - mse: 0.0314 - val_loss: 0.0304 - val_mse: 0.0304\n",
            "Epoch 29/50\n",
            "114/114 [==============================] - 0s 4ms/step - loss: 0.0308 - mse: 0.0308 - val_loss: 0.0294 - val_mse: 0.0294\n",
            "Epoch 30/50\n",
            "114/114 [==============================] - 0s 3ms/step - loss: 0.0310 - mse: 0.0310 - val_loss: 0.0265 - val_mse: 0.0265\n",
            "Epoch 31/50\n",
            "114/114 [==============================] - 0s 4ms/step - loss: 0.0302 - mse: 0.0302 - val_loss: 0.0260 - val_mse: 0.0260\n",
            "Epoch 32/50\n",
            "114/114 [==============================] - 0s 4ms/step - loss: 0.0309 - mse: 0.0309 - val_loss: 0.0271 - val_mse: 0.0271\n",
            "Epoch 33/50\n",
            "114/114 [==============================] - 0s 3ms/step - loss: 0.0308 - mse: 0.0308 - val_loss: 0.0251 - val_mse: 0.0251\n",
            "Epoch 34/50\n",
            "114/114 [==============================] - 0s 3ms/step - loss: 0.0304 - mse: 0.0304 - val_loss: 0.0251 - val_mse: 0.0251\n",
            "Epoch 35/50\n",
            "114/114 [==============================] - 0s 4ms/step - loss: 0.0308 - mse: 0.0308 - val_loss: 0.0258 - val_mse: 0.0258\n",
            "Epoch 36/50\n",
            "114/114 [==============================] - 0s 3ms/step - loss: 0.0305 - mse: 0.0305 - val_loss: 0.0240 - val_mse: 0.0240\n",
            "Epoch 37/50\n",
            "114/114 [==============================] - 0s 4ms/step - loss: 0.0295 - mse: 0.0295 - val_loss: 0.0344 - val_mse: 0.0344\n",
            "Epoch 38/50\n",
            "114/114 [==============================] - 0s 3ms/step - loss: 0.0321 - mse: 0.0321 - val_loss: 0.0252 - val_mse: 0.0252\n",
            "Epoch 39/50\n",
            "114/114 [==============================] - 0s 4ms/step - loss: 0.0293 - mse: 0.0293 - val_loss: 0.0310 - val_mse: 0.0310\n",
            "Epoch 40/50\n",
            "114/114 [==============================] - 0s 3ms/step - loss: 0.0307 - mse: 0.0307 - val_loss: 0.0269 - val_mse: 0.0269\n",
            "Epoch 41/50\n",
            "114/114 [==============================] - 0s 4ms/step - loss: 0.0299 - mse: 0.0299 - val_loss: 0.0255 - val_mse: 0.0255\n",
            "Epoch 42/50\n",
            "114/114 [==============================] - 1s 4ms/step - loss: 0.0294 - mse: 0.0294 - val_loss: 0.0259 - val_mse: 0.0259\n",
            "Epoch 43/50\n",
            "114/114 [==============================] - 0s 4ms/step - loss: 0.0318 - mse: 0.0318 - val_loss: 0.0273 - val_mse: 0.0273\n",
            "Epoch 44/50\n",
            "114/114 [==============================] - 0s 3ms/step - loss: 0.0298 - mse: 0.0298 - val_loss: 0.0277 - val_mse: 0.0277\n",
            "Epoch 45/50\n",
            "114/114 [==============================] - 0s 4ms/step - loss: 0.0296 - mse: 0.0296 - val_loss: 0.0240 - val_mse: 0.0240\n",
            "Epoch 46/50\n",
            "114/114 [==============================] - 0s 4ms/step - loss: 0.0292 - mse: 0.0292 - val_loss: 0.0257 - val_mse: 0.0257\n",
            "Epoch 47/50\n",
            "114/114 [==============================] - 0s 3ms/step - loss: 0.0298 - mse: 0.0298 - val_loss: 0.0272 - val_mse: 0.0272\n",
            "Epoch 48/50\n",
            "114/114 [==============================] - 0s 4ms/step - loss: 0.0300 - mse: 0.0300 - val_loss: 0.0250 - val_mse: 0.0250\n",
            "Epoch 49/50\n",
            "114/114 [==============================] - 1s 5ms/step - loss: 0.0312 - mse: 0.0312 - val_loss: 0.0244 - val_mse: 0.0244\n",
            "Epoch 50/50\n",
            "114/114 [==============================] - 0s 3ms/step - loss: 0.0296 - mse: 0.0296 - val_loss: 0.0245 - val_mse: 0.0245\n"
          ]
        }
      ]
    },
    {
      "cell_type": "code",
      "source": [
        "history.history"
      ],
      "metadata": {
        "id": "RjUFfImGypaG",
        "colab": {
          "base_uri": "https://localhost:8080/"
        },
        "outputId": "7c39113b-114f-4fb9-cbf6-8083ec4b7186"
      },
      "execution_count": null,
      "outputs": [
        {
          "output_type": "execute_result",
          "data": {
            "text/plain": [
              "{'loss': [11.890714645385742,\n",
              "  0.19426020979881287,\n",
              "  0.06755445152521133,\n",
              "  0.04168962314724922,\n",
              "  0.037845879793167114,\n",
              "  0.03730851784348488,\n",
              "  0.03701141104102135,\n",
              "  0.03677556291222572,\n",
              "  0.03746190667152405,\n",
              "  0.036639291793107986,\n",
              "  0.03784386068582535,\n",
              "  0.03623295575380325,\n",
              "  0.035736992955207825,\n",
              "  0.035163238644599915,\n",
              "  0.03594700247049332,\n",
              "  0.034549035131931305,\n",
              "  0.03408721834421158,\n",
              "  0.0337514653801918,\n",
              "  0.03316010907292366,\n",
              "  0.03250851854681969,\n",
              "  0.03296249732375145,\n",
              "  0.03184198960661888,\n",
              "  0.0312457587569952,\n",
              "  0.0316794291138649,\n",
              "  0.0308711975812912,\n",
              "  0.031222617253661156,\n",
              "  0.030649401247501373,\n",
              "  0.031402748078107834,\n",
              "  0.030783938243985176,\n",
              "  0.030974099412560463,\n",
              "  0.030237777158617973,\n",
              "  0.03087829053401947,\n",
              "  0.03080357238650322,\n",
              "  0.03043794259428978,\n",
              "  0.03082079440355301,\n",
              "  0.03051331266760826,\n",
              "  0.029463909566402435,\n",
              "  0.03209613263607025,\n",
              "  0.029279647395014763,\n",
              "  0.03071228601038456,\n",
              "  0.02990185283124447,\n",
              "  0.02943851612508297,\n",
              "  0.03177151456475258,\n",
              "  0.029848778620362282,\n",
              "  0.029571976512670517,\n",
              "  0.029195109382271767,\n",
              "  0.029833948239684105,\n",
              "  0.029969921335577965,\n",
              "  0.031218271702528,\n",
              "  0.029573198407888412],\n",
              " 'mse': [11.890714645385742,\n",
              "  0.19426020979881287,\n",
              "  0.06755445152521133,\n",
              "  0.04168962314724922,\n",
              "  0.037845879793167114,\n",
              "  0.03730851784348488,\n",
              "  0.03701141104102135,\n",
              "  0.03677556291222572,\n",
              "  0.03746190667152405,\n",
              "  0.036639291793107986,\n",
              "  0.03784386068582535,\n",
              "  0.03623295575380325,\n",
              "  0.035736992955207825,\n",
              "  0.035163238644599915,\n",
              "  0.03594700247049332,\n",
              "  0.034549035131931305,\n",
              "  0.03408721834421158,\n",
              "  0.0337514653801918,\n",
              "  0.03316010907292366,\n",
              "  0.03250851854681969,\n",
              "  0.03296249732375145,\n",
              "  0.03184198960661888,\n",
              "  0.0312457587569952,\n",
              "  0.0316794291138649,\n",
              "  0.0308711975812912,\n",
              "  0.031222617253661156,\n",
              "  0.030649401247501373,\n",
              "  0.031402748078107834,\n",
              "  0.030783938243985176,\n",
              "  0.030974099412560463,\n",
              "  0.030237777158617973,\n",
              "  0.03087829053401947,\n",
              "  0.03080357238650322,\n",
              "  0.03043794259428978,\n",
              "  0.03082079440355301,\n",
              "  0.03051331266760826,\n",
              "  0.029463909566402435,\n",
              "  0.03209613263607025,\n",
              "  0.029279647395014763,\n",
              "  0.03071228601038456,\n",
              "  0.02990185283124447,\n",
              "  0.02943851612508297,\n",
              "  0.03177151456475258,\n",
              "  0.029848778620362282,\n",
              "  0.029571976512670517,\n",
              "  0.029195109382271767,\n",
              "  0.029833948239684105,\n",
              "  0.029969921335577965,\n",
              "  0.031218271702528,\n",
              "  0.029573198407888412],\n",
              " 'val_loss': [0.8385692238807678,\n",
              "  0.10996132344007492,\n",
              "  0.05374274030327797,\n",
              "  0.0410919114947319,\n",
              "  0.0384645015001297,\n",
              "  0.03714815154671669,\n",
              "  0.03703465685248375,\n",
              "  0.03672746568918228,\n",
              "  0.036713164299726486,\n",
              "  0.036143746227025986,\n",
              "  0.0433761365711689,\n",
              "  0.03614303097128868,\n",
              "  0.03506418317556381,\n",
              "  0.03534895181655884,\n",
              "  0.03229990229010582,\n",
              "  0.032073672860860825,\n",
              "  0.03206336870789528,\n",
              "  0.0365101657807827,\n",
              "  0.032302409410476685,\n",
              "  0.030607320368289948,\n",
              "  0.029856687411665916,\n",
              "  0.02862703986465931,\n",
              "  0.029389064759016037,\n",
              "  0.027442265301942825,\n",
              "  0.027967745438218117,\n",
              "  0.026612356305122375,\n",
              "  0.03253638371825218,\n",
              "  0.030416414141654968,\n",
              "  0.029397638514637947,\n",
              "  0.02654132805764675,\n",
              "  0.02604733407497406,\n",
              "  0.027051402255892754,\n",
              "  0.025067521259188652,\n",
              "  0.02511952631175518,\n",
              "  0.025832297280430794,\n",
              "  0.024017268791794777,\n",
              "  0.034375470131635666,\n",
              "  0.025198480114340782,\n",
              "  0.030989984050393105,\n",
              "  0.026852767914533615,\n",
              "  0.025461377575993538,\n",
              "  0.025881266221404076,\n",
              "  0.027262231335043907,\n",
              "  0.027720917016267776,\n",
              "  0.02399648167192936,\n",
              "  0.025705240666866302,\n",
              "  0.027244456112384796,\n",
              "  0.025045987218618393,\n",
              "  0.024397321045398712,\n",
              "  0.02449106052517891],\n",
              " 'val_mse': [0.8385692238807678,\n",
              "  0.10996132344007492,\n",
              "  0.05374274030327797,\n",
              "  0.0410919114947319,\n",
              "  0.0384645015001297,\n",
              "  0.03714815154671669,\n",
              "  0.03703465685248375,\n",
              "  0.03672746568918228,\n",
              "  0.036713164299726486,\n",
              "  0.036143746227025986,\n",
              "  0.0433761365711689,\n",
              "  0.03614303097128868,\n",
              "  0.03506418317556381,\n",
              "  0.03534895181655884,\n",
              "  0.03229990229010582,\n",
              "  0.032073672860860825,\n",
              "  0.03206336870789528,\n",
              "  0.0365101657807827,\n",
              "  0.032302409410476685,\n",
              "  0.030607320368289948,\n",
              "  0.029856687411665916,\n",
              "  0.02862703986465931,\n",
              "  0.029389064759016037,\n",
              "  0.027442265301942825,\n",
              "  0.027967745438218117,\n",
              "  0.026612356305122375,\n",
              "  0.03253638371825218,\n",
              "  0.030416414141654968,\n",
              "  0.029397638514637947,\n",
              "  0.02654132805764675,\n",
              "  0.02604733407497406,\n",
              "  0.027051402255892754,\n",
              "  0.025067521259188652,\n",
              "  0.02511952631175518,\n",
              "  0.025832297280430794,\n",
              "  0.024017268791794777,\n",
              "  0.034375470131635666,\n",
              "  0.025198480114340782,\n",
              "  0.030989984050393105,\n",
              "  0.026852767914533615,\n",
              "  0.025461377575993538,\n",
              "  0.025881266221404076,\n",
              "  0.027262231335043907,\n",
              "  0.027720917016267776,\n",
              "  0.02399648167192936,\n",
              "  0.025705240666866302,\n",
              "  0.027244456112384796,\n",
              "  0.025045987218618393,\n",
              "  0.024397321045398712,\n",
              "  0.02449106052517891]}"
            ]
          },
          "metadata": {},
          "execution_count": 169
        }
      ]
    },
    {
      "cell_type": "code",
      "source": [
        "# The history.history[\"loss\"] entry is a dictionary with as many values as epochs that the\n",
        "# model was trained on.\n",
        "df_loss_acc = pd.DataFrame(history.history)\n",
        "\n",
        "df_loss= df_loss_acc[['loss','mse']]\n",
        "\n",
        "\n",
        "df_acc= df_loss_acc[['val_loss','val_mse']]\n",
        "\n",
        "\n",
        "df_loss.plot(title='Model loss',figsize=(12,8))\n",
        "df_acc.plot(title='validation loss',figsize=(12,8))"
      ],
      "metadata": {
        "id": "pP8uZODJyyBn",
        "colab": {
          "base_uri": "https://localhost:8080/",
          "height": 998
        },
        "outputId": "ef53fe11-228a-4689-c985-bbd9b5baade9"
      },
      "execution_count": null,
      "outputs": [
        {
          "output_type": "execute_result",
          "data": {
            "text/plain": [
              "<matplotlib.axes._subplots.AxesSubplot at 0x7f094389da90>"
            ]
          },
          "metadata": {},
          "execution_count": 170
        },
        {
          "output_type": "display_data",
          "data": {
            "image/png": "[encoded data removed]",
            "text/plain": [
              "<Figure size 864x576 with 1 Axes>"
            ]
          },
          "metadata": {
            "needs_background": "light"
          }
        },
        {
          "output_type": "display_data",
          "data": {
            "image/png": "[encoded data removed]",
            "text/plain": [
              "<Figure size 864x576 with 1 Axes>"
            ]
          },
          "metadata": {
            "needs_background": "light"
          }
        }
      ]
    },
    {
      "cell_type": "code",
      "source": [
        "# plot metrics  'mse'\n",
        "from matplotlib import pyplot\n",
        "import matplotlib\n",
        "pyplot.plot(history.history['mse'])\n",
        "pyplot.show()"
      ],
      "metadata": {
        "colab": {
          "base_uri": "https://localhost:8080/",
          "height": 483
        },
        "id": "ytTF83KYmQN1",
        "outputId": "a58169e8-be66-4a4a-cb14-9c9a04d415ce"
      },
      "execution_count": null,
      "outputs": [
        {
          "output_type": "display_data",
          "data": {
            "image/png": "[encoded data removed]",
            "text/plain": [
              "<Figure size 576x576 with 1 Axes>"
            ]
          },
          "metadata": {
            "needs_background": "light"
          }
        }
      ]
    }
  ]
}